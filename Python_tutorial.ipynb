{
  "nbformat": 4,
  "nbformat_minor": 0,
  "metadata": {
    "colab": {
      "provenance": [],
      "toc_visible": true
    },
    "kernelspec": {
      "name": "python3",
      "display_name": "Python 3"
    },
    "language_info": {
      "name": "python"
    }
  },
  "cells": [
    {
      "cell_type": "markdown",
      "source": [
        "## Section 1: Hello World and Variables"
      ],
      "metadata": {
        "id": "7hHQzbc9BwIf"
      }
    },
    {
      "cell_type": "markdown",
      "source": [
        "**Code 1.1:** *Hello World*\n",
        "\n",
        "**Important Point:**\n",
        "\n",
        "print() is a built-in Python function used for output.\n"
      ],
      "metadata": {
        "id": "QRZQ7gEtC6nq"
      }
    },
    {
      "cell_type": "code",
      "execution_count": 2,
      "metadata": {
        "colab": {
          "base_uri": "https://localhost:8080/"
        },
        "id": "KbSV3OvY0ht2",
        "outputId": "d127621d-bccb-42f8-a071-7be13b22a041"
      },
      "outputs": [
        {
          "output_type": "stream",
          "name": "stdout",
          "text": [
            "Hello, World!\n"
          ]
        }
      ],
      "source": [
        "# Syntax: print(\"Hello, World!\")\n",
        "# Explanation: This code prints a simple greeting message.\n",
        "print(\"Hello, World!\")"
      ]
    },
    {
      "cell_type": "markdown",
      "source": [
        "**Code 1.2**: *Variables and Data Types*\n",
        "\n",
        "**Important Point**:\n",
        "\n",
        "*Variables hold different data types (string, int, float) without explicit declaration.*"
      ],
      "metadata": {
        "id": "h8_13fviDxu4"
      }
    },
    {
      "cell_type": "code",
      "source": [
        "# Syntax: variable_name = value\n",
        "# Explanation: Demonstrates variables and data types in Python.\n",
        "name = \"John\"\n",
        "age = 25\n",
        "height = 1.75\n",
        "print(name, age, height)"
      ],
      "metadata": {
        "colab": {
          "base_uri": "https://localhost:8080/"
        },
        "id": "Yr7-F4O_DwwZ",
        "outputId": "8683439f-6ccf-4948-dcda-0bce97d62b1f"
      },
      "execution_count": 3,
      "outputs": [
        {
          "output_type": "stream",
          "name": "stdout",
          "text": [
            "John 25 1.75\n"
          ]
        }
      ]
    },
    {
      "cell_type": "markdown",
      "source": [
        "**Code 1.3: Arithmetic Operations**\n",
        "\n",
        "\n",
        "**Important Point:**\n",
        "\n",
        "\n",
        "\n",
        "Python supports common arithmetic operators: +, -, *, /.\n"
      ],
      "metadata": {
        "id": "1AfTILPvGHtw"
      }
    },
    {
      "cell_type": "code",
      "source": [
        "# Syntax: result = a + b\n",
        "# Explanation: Basic arithmetic operations in Python.\n",
        "a = 9\n",
        "b = 3\n",
        "sum_result = a + b\n",
        "divide=a/b\n",
        "print(\"Sum:\", sum_result)\n",
        "print(\"divide:\",divide)\n"
      ],
      "metadata": {
        "colab": {
          "base_uri": "https://localhost:8080/"
        },
        "id": "TsbcEKWyDCRo",
        "outputId": "1eef852a-f1aa-44e7-e07e-1cc1de84333d"
      },
      "execution_count": 4,
      "outputs": [
        {
          "output_type": "stream",
          "name": "stdout",
          "text": [
            "Sum: 12\n",
            "divide: 3.0\n"
          ]
        }
      ]
    },
    {
      "cell_type": "markdown",
      "source": [
        "**Code 1.4:** *String Manipulation*\n",
        "\n",
        "**Important Point**:\n",
        "\n",
        "\n",
        "Strings can be concatenated using the + operator.\n"
      ],
      "metadata": {
        "id": "DWjfz008HhkD"
      }
    },
    {
      "cell_type": "code",
      "source": [
        "# Syntax: new_string = string1 + string2\n",
        "# Explanation: Concatenating strings to create a message.\n",
        "greeting = \"Hello\"\n",
        "name = \"Alice\"\n",
        "message = greeting + \", \" + name + \"!\"\n",
        "print(message)"
      ],
      "metadata": {
        "colab": {
          "base_uri": "https://localhost:8080/"
        },
        "id": "sp0dmJLjGhgD",
        "outputId": "991f2bbc-a9bd-48c0-97a2-b0db0dbac933"
      },
      "execution_count": 5,
      "outputs": [
        {
          "output_type": "stream",
          "name": "stdout",
          "text": [
            "Hello, Alice!\n"
          ]
        }
      ]
    },
    {
      "cell_type": "markdown",
      "source": [
        "**Code 1.5:** *Lists*\n",
        "\n",
        "\n",
        "**Important Point:**\n",
        "\n",
        "*Lists are ordered and mutable in Python.*\n"
      ],
      "metadata": {
        "id": "SiuvmrR94xCX"
      }
    },
    {
      "cell_type": "code",
      "source": [
        "# Syntax: list_name = [element1, element2, ...]\n",
        "# Explanation: Creating and printing a list of numbers.\n",
        "numbers = [1, 2, 3, 4, 5]\n",
        "print(numbers)\n",
        "print(len(numbers)) #checking length of list\n",
        "print(numbers[2]) #"
      ],
      "metadata": {
        "colab": {
          "base_uri": "https://localhost:8080/"
        },
        "id": "WapkKcId4wyU",
        "outputId": "47bad36f-0d1c-4d95-b6fe-907f56ac66e5"
      },
      "execution_count": 6,
      "outputs": [
        {
          "output_type": "stream",
          "name": "stdout",
          "text": [
            "[1, 2, 3, 4, 5]\n",
            "5\n",
            "3\n"
          ]
        }
      ]
    },
    {
      "cell_type": "markdown",
      "source": [
        "# Section 2: Control Flow\n",
        "\n",
        "---\n",
        "\n",
        "\n",
        "\n",
        "\n",
        "\n",
        "\n",
        "\n"
      ],
      "metadata": {
        "id": "36_5Jc-m5eFb"
      }
    },
    {
      "cell_type": "markdown",
      "source": [
        "**Code 2.1:** *Accessing List Elements*\n",
        "\n",
        "\n",
        "**Important Point:**\n",
        "\n",
        "*Indexing in Python starts from 0.*"
      ],
      "metadata": {
        "id": "7CUdAHVK5lW0"
      }
    },
    {
      "cell_type": "code",
      "source": [
        "# Syntax: element = list_name[index]\n",
        "# Explanation: Accessing and printing the first element of the list.\n",
        "first_element = numbers[0]\n",
        "print(\"First Element:\", first_element)"
      ],
      "metadata": {
        "colab": {
          "base_uri": "https://localhost:8080/"
        },
        "id": "PrMst5lC5d0u",
        "outputId": "139dc1e1-f907-4863-c07c-9006ced12a93"
      },
      "execution_count": 7,
      "outputs": [
        {
          "output_type": "stream",
          "name": "stdout",
          "text": [
            "First Element: 1\n"
          ]
        }
      ]
    },
    {
      "cell_type": "markdown",
      "source": [
        "**Code 2.2:** *List Operations*\n",
        "\n",
        "**Important Point:**\n",
        "\n",
        "append() adds an element to the end of the list."
      ],
      "metadata": {
        "id": "LIP9J__z7Iz6"
      }
    },
    {
      "cell_type": "code",
      "source": [
        "# Syntax: list_name.append(element)\n",
        "# Explanation: Appending a new element to the list.\n",
        "numbers.append(6)\n",
        "print(numbers)"
      ],
      "metadata": {
        "colab": {
          "base_uri": "https://localhost:8080/"
        },
        "id": "hk4ivCJEH0F5",
        "outputId": "35b46ea8-5325-4fcd-a1a0-8eb453b76ddf"
      },
      "execution_count": 8,
      "outputs": [
        {
          "output_type": "stream",
          "name": "stdout",
          "text": [
            "[1, 2, 3, 4, 5, 6]\n"
          ]
        }
      ]
    },
    {
      "cell_type": "markdown",
      "source": [
        "**Code 2.3:** *Conditional Statements*\n",
        "\n",
        "**Important Point:**\n",
        "\n",
        "Python uses indentation for code blocks within control structures.\n"
      ],
      "metadata": {
        "id": "thx-8bg07q0O"
      }
    },
    {
      "cell_type": "code",
      "source": [
        "# Syntax:\n",
        "# if condition:\n",
        "#     code_block\n",
        "# else:\n",
        "#     code_block\n",
        "# Explanation: Using if-else to check age.\n",
        "age = 18\n",
        "if age >= 18:\n",
        "    print(\"You are an adult.\")\n",
        "else:\n",
        "    print(\"You are a minor.\")"
      ],
      "metadata": {
        "colab": {
          "base_uri": "https://localhost:8080/"
        },
        "id": "PgF4VP837_go",
        "outputId": "ae626d90-7b92-43bc-de8e-6b2047e10279"
      },
      "execution_count": 9,
      "outputs": [
        {
          "output_type": "stream",
          "name": "stdout",
          "text": [
            "You are an adult.\n"
          ]
        }
      ]
    },
    {
      "cell_type": "markdown",
      "source": [
        "**Code 2.4:** *Loops*\n",
        "\n",
        "**Important Point:**\n",
        "\n",
        "range(n) generates numbers from 0 to n-1."
      ],
      "metadata": {
        "id": "AZsQIMUr8OwY"
      }
    },
    {
      "cell_type": "code",
      "source": [
        "# Syntax:\n",
        "# for variable in iterable:\n",
        "#     code_block\n",
        "# Explanation: Using a for loop to print numbers 0 to 4.\n",
        "for i in range(5):\n",
        "    print(i)"
      ],
      "metadata": {
        "colab": {
          "base_uri": "https://localhost:8080/"
        },
        "id": "TKjsKGlD8YKm",
        "outputId": "eac73782-933f-4de7-cb7a-072fc501c242"
      },
      "execution_count": 10,
      "outputs": [
        {
          "output_type": "stream",
          "name": "stdout",
          "text": [
            "0\n",
            "1\n",
            "2\n",
            "3\n",
            "4\n"
          ]
        }
      ]
    },
    {
      "cell_type": "markdown",
      "source": [
        "**Code 2.5:** *Functions*\n",
        "\n",
        "Important Point:\n",
        "\n",
        "*Functions are defined using the def keyword and can return values.*\n"
      ],
      "metadata": {
        "id": "177alfvK8rkr"
      }
    },
    {
      "cell_type": "code",
      "source": [
        "# Syntax:\n",
        "# def function_name(parameters):\n",
        "#     code_block\n",
        "#     return value\n",
        "# Explanation: Defining and calling a simple function.\n",
        "def greet(name):\n",
        "    return \"Hello, \" + name + \"!\"\n",
        "\n",
        "message = greet(\"Bob\")\n",
        "print(message)"
      ],
      "metadata": {
        "colab": {
          "base_uri": "https://localhost:8080/"
        },
        "id": "gEKR-iIm83U2",
        "outputId": "96b7752b-acd1-451e-cb62-60802510a157"
      },
      "execution_count": 11,
      "outputs": [
        {
          "output_type": "stream",
          "name": "stdout",
          "text": [
            "Hello, Bob!\n"
          ]
        }
      ]
    },
    {
      "cell_type": "markdown",
      "source": [
        "# Section 3: Advanced Data Structures\n"
      ],
      "metadata": {
        "id": "iqFk0VCV88h2"
      }
    },
    {
      "cell_type": "markdown",
      "source": [
        "**Code 3.1**: *Dictionaries*\n",
        "\n",
        "**Important Point:**\n",
        "\n",
        "*Dictionaries store key-value pairs.*"
      ],
      "metadata": {
        "id": "xvrn4FAe9AAr"
      }
    },
    {
      "cell_type": "code",
      "source": [
        "# Syntax: dict_name = {\"key1\": value1, \"key2\": value2, ...}\n",
        "# Explanation: Creating and printing a dictionary.\n",
        "student = {\"name\": \"Alice\", \"age\": 20, \"grade\": \"A\"}\n",
        "print(student)"
      ],
      "metadata": {
        "colab": {
          "base_uri": "https://localhost:8080/"
        },
        "id": "57ZKV4xg9MXh",
        "outputId": "023f1b8a-e36e-4eac-f0b5-d421e1f83c59"
      },
      "execution_count": 12,
      "outputs": [
        {
          "output_type": "stream",
          "name": "stdout",
          "text": [
            "{'name': 'Alice', 'age': 20, 'grade': 'A'}\n"
          ]
        }
      ]
    },
    {
      "cell_type": "markdown",
      "source": [
        "**Code 3.2:** *Tuples*\n",
        "\n",
        "**Important Point:**\n",
        "\n",
        "Tuples are immutable, and elements cannot be changed once defined."
      ],
      "metadata": {
        "id": "wd4nmqOo9PbR"
      }
    },
    {
      "cell_type": "code",
      "source": [
        "# Syntax: tuple_name = (element1, element2, ...)\n",
        "# Explanation: Creating and printing a tuple.\n",
        "coordinates = (3, 4)\n",
        "print(coordinates)"
      ],
      "metadata": {
        "colab": {
          "base_uri": "https://localhost:8080/"
        },
        "id": "_LV-qkSc9S0J",
        "outputId": "744bd42d-1f52-4062-9e85-75a4f071ad2a"
      },
      "execution_count": 13,
      "outputs": [
        {
          "output_type": "stream",
          "name": "stdout",
          "text": [
            "(3, 4)\n"
          ]
        }
      ]
    },
    {
      "cell_type": "markdown",
      "source": [
        "**Code 3.3**: *Sets*\n",
        "\n",
        "**Important Point:**\n",
        "\n",
        "*Sets store unique elements and are unordered.*"
      ],
      "metadata": {
        "id": "nuijPgfp98k-"
      }
    },
    {
      "cell_type": "code",
      "source": [
        "# Syntax: set_name = {element1, element2, ...}\n",
        "# Explanation: Creating and printing a set.\n",
        "unique_numbers = {1, 2, 3, 4, 5}\n",
        "print(unique_numbers)"
      ],
      "metadata": {
        "colab": {
          "base_uri": "https://localhost:8080/"
        },
        "id": "yqzt1Bzs-ExC",
        "outputId": "0c28cdc5-2b77-42ab-a2de-f487f5d02753"
      },
      "execution_count": 14,
      "outputs": [
        {
          "output_type": "stream",
          "name": "stdout",
          "text": [
            "{1, 2, 3, 4, 5}\n"
          ]
        }
      ]
    },
    {
      "cell_type": "markdown",
      "source": [
        "**Code 3.4:** *String Formatting*\n",
        "\n",
        "**Important Point:**\n",
        "\n",
        "*String formatting improves readability and flexibilit*y\n"
      ],
      "metadata": {
        "id": "nFx4yyCX-MED"
      }
    },
    {
      "cell_type": "code",
      "source": [
        "# Syntax: formatted_string = \"Text {} more text {}\".format(value1, value2)\n",
        "# Explanation: Formatting strings using placeholders.\n",
        "formatted_string = \"Name: {}, Age: {}\".format(name, age)\n",
        "print(formatted_string)"
      ],
      "metadata": {
        "colab": {
          "base_uri": "https://localhost:8080/"
        },
        "id": "-t9_yF0W-Lt8",
        "outputId": "4130faac-e308-4236-a7fb-1b25985ef77a"
      },
      "execution_count": 15,
      "outputs": [
        {
          "output_type": "stream",
          "name": "stdout",
          "text": [
            "Name: Alice, Age: 18\n"
          ]
        }
      ]
    },
    {
      "cell_type": "markdown",
      "source": [
        "**Code 3.5:** *Slicing and Iterating*\n",
        "\n",
        "**Important notes**\n",
        "Important Point:\n",
        "\n",
        "*Slicing allows you to create a new list by specifying start, end, and step indices.*"
      ],
      "metadata": {
        "id": "ekB76JGhEt7y"
      }
    },
    {
      "cell_type": "code",
      "source": [
        "# Syntax: sublist = list[start_index:end_index:step]\n",
        "# Explanation: Slicing a list to get a sublist.\n",
        "numbers = [1, 2, 3, 4, 5, 6, 7, 8, 9]\n",
        "sublist = numbers[2:7:2]\n",
        "print(\"Sublist:\", sublist)"
      ],
      "metadata": {
        "colab": {
          "base_uri": "https://localhost:8080/"
        },
        "id": "B1vuqIZEFLVC",
        "outputId": "ca1869d6-c5ec-43ca-a7a6-411608ac4309"
      },
      "execution_count": 16,
      "outputs": [
        {
          "output_type": "stream",
          "name": "stdout",
          "text": [
            "Sublist: [3, 5, 7]\n"
          ]
        }
      ]
    },
    {
      "cell_type": "markdown",
      "source": [
        "**Code 3.6:** *Slicing Strings*\n",
        "\n",
        "**Important Point:**\n",
        "\n",
        "String slicing works similarly to list slicing."
      ],
      "metadata": {
        "id": "a405wF-rFQX2"
      }
    },
    {
      "cell_type": "code",
      "source": [
        "# Syntax: substring = string[start_index:end_index]\n",
        "# Explanation: Slicing a string to get a substring.\n",
        "sentence = \"Python is amazing!\"\n",
        "substring = sentence[7:10]\n",
        "print(\"Substring:\", substring)"
      ],
      "metadata": {
        "colab": {
          "base_uri": "https://localhost:8080/"
        },
        "id": "y-xfr0jsFc3Q",
        "outputId": "68e4da30-45d2-4547-eb76-f909990c51cd"
      },
      "execution_count": 17,
      "outputs": [
        {
          "output_type": "stream",
          "name": "stdout",
          "text": [
            "Substring: is \n"
          ]
        }
      ]
    },
    {
      "cell_type": "markdown",
      "source": [
        "** Code 3.7:**  *Slicing Tuples*\n",
        "\n",
        "**Important Point:**\n",
        "\n",
        "Tuples support slicing just like lists.\n",
        "\n"
      ],
      "metadata": {
        "id": "pM4R3eEFFor8"
      }
    },
    {
      "cell_type": "code",
      "source": [
        "# Syntax: subtuple = tuple[start_index:end_index]\n",
        "# Explanation: Slicing a tuple to get a subtuple.\n",
        "coordinates = (3, 4, 5, 6)\n",
        "subtuple = coordinates[1:3]\n",
        "print(\"Subtuple:\", subtuple)"
      ],
      "metadata": {
        "colab": {
          "base_uri": "https://localhost:8080/"
        },
        "id": "62T1BiFwF7C4",
        "outputId": "581247e6-ee56-4ef1-f1b3-273ae7181011"
      },
      "execution_count": 18,
      "outputs": [
        {
          "output_type": "stream",
          "name": "stdout",
          "text": [
            "Subtuple: (4, 5)\n"
          ]
        }
      ]
    },
    {
      "cell_type": "markdown",
      "source": [
        "**Code 3.8:** *Iterating over List*s\n",
        "\n",
        "**Important Point:**\n",
        "\n",
        "The for loop is used for iterating over elements in a list."
      ],
      "metadata": {
        "id": "i593iN65GJLu"
      }
    },
    {
      "cell_type": "code",
      "source": [
        "# Syntax: for element in iterable:\n",
        "#     code_block\n",
        "# Explanation: Iterating over a list and printing each element.\n",
        "fruits = [\"apple\", \"banana\", \"orange\"]\n",
        "for fruit in fruits:\n",
        "    print(fruit)"
      ],
      "metadata": {
        "colab": {
          "base_uri": "https://localhost:8080/"
        },
        "id": "phCcT4ZfGe0c",
        "outputId": "6244257b-0c67-4152-f4fc-0644103cf4e3"
      },
      "execution_count": 19,
      "outputs": [
        {
          "output_type": "stream",
          "name": "stdout",
          "text": [
            "apple\n",
            "banana\n",
            "orange\n"
          ]
        }
      ]
    },
    {
      "cell_type": "markdown",
      "source": [
        "**Code 3.9:** *Enumerating Lists*\n",
        "\n",
        "**Important Point:**\n",
        "\n",
        "enumerate() provides both the index and the value during iteration.\n"
      ],
      "metadata": {
        "id": "7adPYSVXHS4k"
      }
    },
    {
      "cell_type": "code",
      "source": [
        "# Syntax: for index, value in enumerate(iterable):\n",
        "#     code_block\n",
        "# Explanation: Enumerating over a list to get both index and value.\n",
        "colors = [\"red\", \"green\", \"blue\"]\n",
        "for index, color in enumerate(colors):\n",
        "    print(f\"Index: {index}, Color: {color}\")\n"
      ],
      "metadata": {
        "colab": {
          "base_uri": "https://localhost:8080/"
        },
        "id": "VxiqNK6hHkfy",
        "outputId": "e33e52cd-2b23-4d65-d20e-27bd11d9edba"
      },
      "execution_count": 20,
      "outputs": [
        {
          "output_type": "stream",
          "name": "stdout",
          "text": [
            "Index: 0, Color: red\n",
            "Index: 1, Color: green\n",
            "Index: 2, Color: blue\n"
          ]
        }
      ]
    },
    {
      "cell_type": "markdown",
      "source": [
        "**Code 3.10:** Zip for Parallel Iteration\n",
        "\n",
        "**Important Point:**\n",
        "\n",
        "zip() combines elements from multiple iterables for parallel iteration."
      ],
      "metadata": {
        "id": "PkCev6y4Hnr4"
      }
    },
    {
      "cell_type": "code",
      "source": [
        "# Syntax: for element1, element2 in zip(iterable1, iterable2):\n",
        "#     code_block\n",
        "# Explanation: Using zip for parallel iteration over two lists.\n",
        "names = [\"Alice\", \"Bob\", \"Charlie\"]\n",
        "ages = [25, 30, 35]\n",
        "for name, age in zip(names, ages):\n",
        "    print(f\"Name: {name}, Age: {age}\")\n"
      ],
      "metadata": {
        "colab": {
          "base_uri": "https://localhost:8080/"
        },
        "id": "KMIBPb6OHxa3",
        "outputId": "8d2d9a0f-76ea-4eaa-eb19-bb03a70dd485"
      },
      "execution_count": 21,
      "outputs": [
        {
          "output_type": "stream",
          "name": "stdout",
          "text": [
            "Name: Alice, Age: 25\n",
            "Name: Bob, Age: 30\n",
            "Name: Charlie, Age: 35\n"
          ]
        }
      ]
    },
    {
      "cell_type": "markdown",
      "source": [
        "**Code 3.11:** *Iterating over Dictionary Keys*\n",
        "\n",
        "**Important Point:**\n",
        "\n",
        "By default, iterating over a dictionary yields its keys."
      ],
      "metadata": {
        "id": "KoP_atngIY6M"
      }
    },
    {
      "cell_type": "code",
      "source": [
        "# Syntax: for key in dictionary:\n",
        "#     code_block\n",
        "# Explanation: Iterating over dictionary keys and printing each key.\n",
        "student = {\"name\": \"Alice\", \"age\": 25, \"grade\": \"A\"}\n",
        "for key in student:\n",
        "    print(\"Key:\", key)"
      ],
      "metadata": {
        "colab": {
          "base_uri": "https://localhost:8080/"
        },
        "id": "U_DOtmXyIjN6",
        "outputId": "3ac88dbd-d371-430d-96f5-5df79fdfe8fe"
      },
      "execution_count": 22,
      "outputs": [
        {
          "output_type": "stream",
          "name": "stdout",
          "text": [
            "Key: name\n",
            "Key: age\n",
            "Key: grade\n"
          ]
        }
      ]
    },
    {
      "cell_type": "markdown",
      "source": [
        "**Code 3.12:** Iterating over Dictionary Items\n",
        "\n",
        "**Important Point:**\n",
        "\n",
        "The items() method allows iteration over both keys and values in a dictionary."
      ],
      "metadata": {
        "id": "vySr2N8rIrrr"
      }
    },
    {
      "cell_type": "code",
      "source": [
        "# Syntax: for key, value in dictionary.items():\n",
        "#     code_block\n",
        "# Explanation: Iterating over dictionary items and printing each key-value pair.\n",
        "for key, value in student.items():\n",
        "    print(f\"Key: {key}, Value: {value}\")"
      ],
      "metadata": {
        "colab": {
          "base_uri": "https://localhost:8080/"
        },
        "id": "-AJJG1-7I4T5",
        "outputId": "79b8a8ad-6cb5-4e84-ff30-b43a8fa05477"
      },
      "execution_count": 23,
      "outputs": [
        {
          "output_type": "stream",
          "name": "stdout",
          "text": [
            "Key: name, Value: Alice\n",
            "Key: age, Value: 25\n",
            "Key: grade, Value: A\n"
          ]
        }
      ]
    },
    {
      "cell_type": "markdown",
      "source": [
        "**Code 3.13:** *File Handling*\n",
        "\n",
        "**Important Point:**\n",
        "\n",
        "*The \"with\" statement ensures proper file closure.*"
      ],
      "metadata": {
        "id": "lTAm_Rhl-XB5"
      }
    },
    {
      "cell_type": "code",
      "source": [
        "# Syntax:\n",
        "# with open(\"file.txt\", \"w\") as file:\n",
        "#     file.write(\"Hello, File!\")\n",
        "# Explanation: Writing to a file using the \"with\" statement.\n",
        "with open(\"file.txt\", \"w\") as file:\n",
        "    file.write(\"Hello, File!\")"
      ],
      "metadata": {
        "id": "e6cW9wav-IoU"
      },
      "execution_count": 24,
      "outputs": []
    },
    {
      "cell_type": "markdown",
      "source": [
        "**Code 3.14:** Reading from a File\n",
        "\n",
        "**Important Point:**\n",
        "\n",
        "*The mode \"r\" is used for reading from a file.*"
      ],
      "metadata": {
        "id": "LQGzjNiMMCvQ"
      }
    },
    {
      "cell_type": "code",
      "source": [
        "# Syntax:\n",
        "# with open(\"file.txt\", \"r\") as file:\n",
        "#     content = file.read()\n",
        "# Explanation: Reading content from a file.\n",
        "with open(\"file.txt\", \"r\") as file:\n",
        "    content = file.read()\n",
        "print(\"File Content:\", content)"
      ],
      "metadata": {
        "colab": {
          "base_uri": "https://localhost:8080/"
        },
        "id": "L-UuwWbwMMOy",
        "outputId": "bb101d5c-bb6b-4f19-cea4-2ebf00d5f54d"
      },
      "execution_count": 25,
      "outputs": [
        {
          "output_type": "stream",
          "name": "stdout",
          "text": [
            "File Content: Hello, File!\n"
          ]
        }
      ]
    },
    {
      "cell_type": "markdown",
      "source": [
        "**Code 3.15**: *Appending to a File*\n",
        "\n",
        "**Important Point:**\n",
        "\n",
        "The mode \"a\" is used for appending to a file."
      ],
      "metadata": {
        "id": "bkXQPWpmMPv8"
      }
    },
    {
      "cell_type": "code",
      "source": [
        "# Syntax:\n",
        "# with open(\"file.txt\", \"a\") as file:\n",
        "#     file.write(\"\\nAppending more content.\")\n",
        "# Explanation: Appending additional content to a file.\n",
        "with open(\"file.txt\", \"a\") as file:\n",
        "    file.write(\"\\nAppending more content.\")"
      ],
      "metadata": {
        "id": "Q-bNUut_MTVF"
      },
      "execution_count": 26,
      "outputs": []
    },
    {
      "cell_type": "markdown",
      "source": [
        "**Code 3.16:** *Handling File Not Found*\n",
        "\n",
        "**Important Point:**\n",
        "\n",
        "Exception handling helps manage potential file-related errors."
      ],
      "metadata": {
        "id": "Q9VRBb7SMWjW"
      }
    },
    {
      "cell_type": "code",
      "source": [
        "# Syntax:\n",
        "# try:\n",
        "#     with open(\"nonexistent_file.txt\", \"r\") as file:\n",
        "#         content = file.read()\n",
        "# except FileNotFoundError:\n",
        "#     print(\"File not found.\")\n",
        "# Explanation: Handling File Not Found exception.\n",
        "try:\n",
        "    with open(\"nonexistent_file.txt\", \"r\") as file:\n",
        "        content = file.read()\n",
        "except FileNotFoundError:\n",
        "    print(\"File not found.\")"
      ],
      "metadata": {
        "colab": {
          "base_uri": "https://localhost:8080/"
        },
        "id": "nNulBxKcMmrO",
        "outputId": "bf36e174-730a-4f9e-fb9e-ece8e33763d7"
      },
      "execution_count": 27,
      "outputs": [
        {
          "output_type": "stream",
          "name": "stdout",
          "text": [
            "File not found.\n"
          ]
        }
      ]
    },
    {
      "cell_type": "markdown",
      "source": [
        "**Code 3.17**: *Writing Multiple Lines*\n",
        "\n",
        "***Important Point:***\n",
        "\n",
        "writelines() writes a list of lines to the file.\n"
      ],
      "metadata": {
        "id": "qlXB5wZsMpos"
      }
    },
    {
      "cell_type": "code",
      "source": [
        "# Syntax:\n",
        "# lines = [\"Line 1\\n\", \"Line 2\\n\", \"Line 3\\n\"]\n",
        "# with open(\"multiline_file.txt\", \"w\") as file:\n",
        "#     file.writelines(lines)\n",
        "# Explanation: Writing multiple lines to a file.\n",
        "lines = [\"Line 1\\n\", \"Line 2\\n\", \"Line 3\\n\"]\n",
        "with open(\"multiline_file.txt\", \"w\") as file:\n",
        "    file.writelines(lines)"
      ],
      "metadata": {
        "id": "d_MIDKFDMyKo"
      },
      "execution_count": 28,
      "outputs": []
    },
    {
      "cell_type": "markdown",
      "source": [
        "**Code 3.18**: *Reading Lines into a List*\n",
        "\n",
        "**Important Point:**\n",
        "\n",
        "readlines() reads all lines from the file into a list."
      ],
      "metadata": {
        "id": "n9IeHjKWM1MJ"
      }
    },
    {
      "cell_type": "code",
      "source": [
        "# Syntax:\n",
        "# with open(\"multiline_file.txt\", \"r\") as file:\n",
        "#     lines = file.readlines()\n",
        "# Explanation: Reading lines from a file into a list.\n",
        "with open(\"multiline_file.txt\", \"r\") as file:\n",
        "    lines = file.readlines()\n",
        "print(\"Lines from File:\", lines)"
      ],
      "metadata": {
        "colab": {
          "base_uri": "https://localhost:8080/"
        },
        "id": "vfVUzfZcM40U",
        "outputId": "ec43040b-2c7e-40be-ff35-81b3c66c6cd2"
      },
      "execution_count": 29,
      "outputs": [
        {
          "output_type": "stream",
          "name": "stdout",
          "text": [
            "Lines from File: ['Line 1\\n', 'Line 2\\n', 'Line 3\\n']\n"
          ]
        }
      ]
    },
    {
      "cell_type": "markdown",
      "source": [
        "# Section 4: Advanced Control Flow"
      ],
      "metadata": {
        "id": "GD6C0YIcNlOH"
      }
    },
    {
      "cell_type": "markdown",
      "source": [
        "**Code 4.1**: *Exception Handling*\n",
        "\n",
        "**Important Point:**\n",
        "\n",
        "Exception handling prevents program crashes on errors."
      ],
      "metadata": {
        "id": "F1z-Db4_Noef"
      }
    },
    {
      "cell_type": "code",
      "source": [
        "# Syntax:\n",
        "# try:\n",
        "#     code_block\n",
        "# except ExceptionType as e:\n",
        "#     code_block\n",
        "# Explanation: Handling division by zero exception.\n",
        "try:\n",
        "    result = 10 / 0\n",
        "except ZeroDivisionError:\n",
        "    print(\"Cannot divide by zero.\")"
      ],
      "metadata": {
        "colab": {
          "base_uri": "https://localhost:8080/"
        },
        "id": "EshvySNpNnx1",
        "outputId": "8813f3e5-f3e9-4d60-9379-220f89c89e57"
      },
      "execution_count": 30,
      "outputs": [
        {
          "output_type": "stream",
          "name": "stdout",
          "text": [
            "Cannot divide by zero.\n"
          ]
        }
      ]
    },
    {
      "cell_type": "code",
      "source": [
        "# Syntax:\n",
        "# class CustomError(Exception):\n",
        "#     pass\n",
        "#\n",
        "# try:\n",
        "#     raise CustomError(\"This is a custom exception.\")\n",
        "# except CustomError as e:\n",
        "#     print(\"Caught a custom exception:\", e)\n",
        "# Explanation: Defining and handling a custom exception.\n",
        "class CustomError(Exception):\n",
        "    pass\n",
        "\n",
        "try:\n",
        "    raise CustomError(\"This is a custom exception.\")\n",
        "except CustomError as e:\n",
        "    print(\"Caught a custom exception:\", e)"
      ],
      "metadata": {
        "colab": {
          "base_uri": "https://localhost:8080/"
        },
        "id": "9wWkm09gOKKm",
        "outputId": "48c950cf-f8b8-4ce4-82eb-60f8f89a546a"
      },
      "execution_count": 31,
      "outputs": [
        {
          "output_type": "stream",
          "name": "stdout",
          "text": [
            "Caught a custom exception: This is a custom exception.\n"
          ]
        }
      ]
    },
    {
      "cell_type": "markdown",
      "source": [
        "**Code 4.7:** List Filtering with Lambda\n",
        "\n",
        "**Important Point:**\n",
        "\n",
        "filter() applies a function to each element and returns elements that evaluate to True."
      ],
      "metadata": {
        "id": "UJJdqAyVOQJk"
      }
    },
    {
      "cell_type": "code",
      "source": [
        "# Syntax: filtered_list = list(filter(lambda x: condition, iterable))\n",
        "# Explanation: Filtering even numbers using filter and lambda.\n",
        "even_numbers = list(filter(lambda x: x % 2 == 0, numbers))\n",
        "print(\"Even Numbers:\", even_numbers)"
      ],
      "metadata": {
        "colab": {
          "base_uri": "https://localhost:8080/"
        },
        "id": "2wtHX881Ob81",
        "outputId": "ac5704f9-87ac-4e67-e9bc-76de594c0a2a"
      },
      "execution_count": 32,
      "outputs": [
        {
          "output_type": "stream",
          "name": "stdout",
          "text": [
            "Even Numbers: [2, 4, 6, 8]\n"
          ]
        }
      ]
    },
    {
      "cell_type": "markdown",
      "source": [
        "**Code 4.8:** Map Function with Lambda\n",
        "\n",
        "**mportant Point**:\n",
        "\n",
        "map() applies a function to each element and returns a list of the results."
      ],
      "metadata": {
        "id": "CjYvRKF1Oevm"
      }
    },
    {
      "cell_type": "code",
      "source": [
        "# Syntax: mapped_list = list(map(lambda x: expression, iterable))\n",
        "# Explanation: Mapping squared values using map and lambda.\n",
        "squared_numbers = list(map(lambda x: x**2, numbers))\n",
        "print(\"Squared Numbers:\", squared_numbers)"
      ],
      "metadata": {
        "colab": {
          "base_uri": "https://localhost:8080/"
        },
        "id": "4XAMPdEWOkS3",
        "outputId": "59fbd4eb-d4e0-491d-af62-2ad5054f9bf2"
      },
      "execution_count": 33,
      "outputs": [
        {
          "output_type": "stream",
          "name": "stdout",
          "text": [
            "Squared Numbers: [1, 4, 9, 16, 25, 36, 49, 64, 81]\n"
          ]
        }
      ]
    },
    {
      "cell_type": "markdown",
      "source": [
        "**Code 4.9:** Reduce Function\n",
        "\n",
        "**Important Point:**\n",
        "\n",
        "The reduce() function successively applies a function to the items of an iterable."
      ],
      "metadata": {
        "id": "bvJCHT8_Omfl"
      }
    },
    {
      "cell_type": "code",
      "source": [
        "# Syntax: from functools import reduce\n",
        "# result = reduce(lambda x, y: expression, iterable)\n",
        "# Explanation: Using reduce to find the product of a list.\n",
        "from functools import reduce\n",
        "product = reduce(lambda x, y: x * y, numbers)\n",
        "print(\"Product of Numbers:\", product)"
      ],
      "metadata": {
        "colab": {
          "base_uri": "https://localhost:8080/"
        },
        "id": "A-xhlmB6OsPd",
        "outputId": "53063fe8-2562-48fc-8392-ace2c5b32f4a"
      },
      "execution_count": 34,
      "outputs": [
        {
          "output_type": "stream",
          "name": "stdout",
          "text": [
            "Product of Numbers: 362880\n"
          ]
        }
      ]
    },
    {
      "cell_type": "markdown",
      "source": [
        "**Code 4.10:** Decorators\n",
        "\n",
        "Important Point:\n",
        "\n",
        "Decorators are a powerful feature for modifying or extending the behavior of functions.\n"
      ],
      "metadata": {
        "id": "pMV4GrSfOuBR"
      }
    },
    {
      "cell_type": "code",
      "source": [
        "# Syntax:\n",
        "# def decorator(func):\n",
        "#     def wrapper(*args, **kwargs):\n",
        "#         # Additional functionality\n",
        "#         result = func(*args, **kwargs)\n",
        "#         # Additional functionality\n",
        "#         return result\n",
        "#     return wrapper\n",
        "#\n",
        "# decorator\n",
        "# def example_function():\n",
        "#     print(\"Executing example function.\")\n",
        "# Explanation: Creating and using a simple decorator.\n",
        "def decorator(func):\n",
        "    def wrapper(*args, **kwargs):\n",
        "        print(\"Executing decorator before function.\")\n",
        "        result = func(*args, **kwargs)\n",
        "        print(\"Executing decorator after function.\")\n",
        "        return result\n",
        "    return wrapper\n",
        "\n",
        "@decorator\n",
        "def example_function():\n",
        "    print(\"Executing example function.\")\n",
        "\n",
        "example_function()"
      ],
      "metadata": {
        "colab": {
          "base_uri": "https://localhost:8080/"
        },
        "id": "6a5-kgtSOy3p",
        "outputId": "7e439a45-b934-49a0-910f-6d71fb8cc045"
      },
      "execution_count": 35,
      "outputs": [
        {
          "output_type": "stream",
          "name": "stdout",
          "text": [
            "Executing decorator before function.\n",
            "Executing example function.\n",
            "Executing decorator after function.\n"
          ]
        }
      ]
    },
    {
      "cell_type": "markdown",
      "source": [
        "**Code 4.11:** List Comprehension\n",
        "\n",
        "**Important Point:**\n",
        "\n",
        "List comprehensions offer a concise way to create lists."
      ],
      "metadata": {
        "id": "pJGdI8t8PFSv"
      }
    },
    {
      "cell_type": "code",
      "source": [
        "# Syntax: new_list = [expression for item in iterable if condition]\n",
        "# Explanation: Creating a list of squared numbers using comprehension.\n",
        "squared_numbers = [x**2 for x in numbers]\n",
        "print(squared_numbers)"
      ],
      "metadata": {
        "colab": {
          "base_uri": "https://localhost:8080/"
        },
        "id": "H6Gbq0odPRU2",
        "outputId": "02cc26be-a991-4683-c5ba-0f9129c27afb"
      },
      "execution_count": 36,
      "outputs": [
        {
          "output_type": "stream",
          "name": "stdout",
          "text": [
            "[1, 4, 9, 16, 25, 36, 49, 64, 81]\n"
          ]
        }
      ]
    },
    {
      "cell_type": "markdown",
      "source": [
        "**Code 4.12**: Enumerate\n",
        "\n",
        "**Important Point**:\n",
        "\n",
        "Enumerate provides both index and value during iteration."
      ],
      "metadata": {
        "id": "Jn_uFlt6RROD"
      }
    },
    {
      "cell_type": "code",
      "source": [
        "# Syntax: for index, value in enumerate(iterable):\n",
        "#     code_block\n",
        "# Explanation: Using enumerate to print index and value of list elements.\n",
        "numbers=[1,2,3,4,5]\n",
        "for index, value in enumerate(numbers):\n",
        "    print(index, value)"
      ],
      "metadata": {
        "colab": {
          "base_uri": "https://localhost:8080/"
        },
        "id": "qP23zDpeRT9a",
        "outputId": "879c509a-a7bf-44c0-da82-94a7e9c83aef"
      },
      "execution_count": 37,
      "outputs": [
        {
          "output_type": "stream",
          "name": "stdout",
          "text": [
            "0 1\n",
            "1 2\n",
            "2 3\n",
            "3 4\n",
            "4 5\n"
          ]
        }
      ]
    },
    {
      "cell_type": "markdown",
      "source": [
        "# Section 5: Different ways to take input from the user"
      ],
      "metadata": {
        "id": "EnsEHVokJy6F"
      }
    },
    {
      "cell_type": "markdown",
      "source": [
        "**Code 5.1:**  Taking Integer Input\n",
        "\n",
        "**Important Point:**\n",
        "\n",
        "input() function takes user input as a string. Use int() to convert it to an integer.\n"
      ],
      "metadata": {
        "id": "C3OfDxY7J_aP"
      }
    },
    {
      "cell_type": "code",
      "source": [
        " # Explanation: Taking an integer input from the user.\n",
        "user_input = int(input(\"Enter an integer: \"))\n",
        "print(\"You entered:\", user_input)"
      ],
      "metadata": {
        "colab": {
          "base_uri": "https://localhost:8080/"
        },
        "id": "HaPPAwVOZB_S",
        "outputId": "6f7d502c-ead4-4777-cf4a-d6e785da69e7"
      },
      "execution_count": 38,
      "outputs": [
        {
          "output_type": "stream",
          "name": "stdout",
          "text": [
            "Enter an integer: 567\n",
            "You entered: 567\n"
          ]
        }
      ]
    },
    {
      "cell_type": "markdown",
      "source": [
        "**Code 5.2:** * Taking Floating-Point Input*\n",
        "\n",
        "**Important Point:**\n",
        "\n",
        "Similar to integers, use float() to convert the input to a floating-point number."
      ],
      "metadata": {
        "id": "_2LmNVSuKN56"
      }
    },
    {
      "cell_type": "markdown",
      "source": [
        "**Code 5.3:** Taking String Input\n",
        "\n",
        "**Important Point:**\n",
        "\n",
        "input() directly takes a string from the user.\n"
      ],
      "metadata": {
        "id": "Dlz2Ac5CKcLj"
      }
    },
    {
      "cell_type": "code",
      "source": [
        "# Explanation: Taking a string input from the user.\n",
        "user_input = input(\"Enter a string: \")\n",
        "print(\"You entered:\", user_input)"
      ],
      "metadata": {
        "colab": {
          "base_uri": "https://localhost:8080/"
        },
        "id": "Zc0Bb-C5KiK7",
        "outputId": "d44f3088-f428-4a75-9763-293fa8e4b902"
      },
      "execution_count": 39,
      "outputs": [
        {
          "output_type": "stream",
          "name": "stdout",
          "text": [
            "Enter a string: Shweta\n",
            "You entered: Shweta\n"
          ]
        }
      ]
    },
    {
      "cell_type": "markdown",
      "source": [
        "Code 5.4: Taking Multiple Inputs in One Line\n",
        "\n",
        "**Important Point:**\n",
        "\n",
        "split() is used to separate multiple inputs entered in one line.\n"
      ],
      "metadata": {
        "id": "WAaMKKApKmHD"
      }
    },
    {
      "cell_type": "code",
      "source": [
        "# Explanation: Taking multiple space-separated inputs in one line.\n",
        "name, age = input(\"Enter your name and age (separated by a space): \").split()\n",
        "print(\"Name:\", name)\n",
        "print(\"Age:\", age)"
      ],
      "metadata": {
        "colab": {
          "base_uri": "https://localhost:8080/"
        },
        "id": "CrYtAaExKqLX",
        "outputId": "127c496b-4194-444e-cb35-dd60e0cbfb8f"
      },
      "execution_count": 40,
      "outputs": [
        {
          "output_type": "stream",
          "name": "stdout",
          "text": [
            "Enter your name and age (separated by a space): Shweta 27\n",
            "Name: Shweta\n",
            "Age: 27\n"
          ]
        }
      ]
    },
    {
      "cell_type": "markdown",
      "source": [
        "**Code 5.5: **Taking List of Numbers as Input\n",
        "\n",
        "**Important Point:**\n",
        "\n",
        "map() and split() are used to convert space-separated inputs into a list of numbers."
      ],
      "metadata": {
        "id": "rANMSwlgKvdc"
      }
    },
    {
      "cell_type": "code",
      "source": [
        "# Explanation: Taking a list of numbers as input.\n",
        "numbers = list(map(int, input(\"Enter a list of numbers separated by spaces: \").split()))\n",
        "print(\"List of Numbers:\", numbers)"
      ],
      "metadata": {
        "colab": {
          "base_uri": "https://localhost:8080/"
        },
        "id": "uss6bwYOK06e",
        "outputId": "6c5f5dfd-60c9-4d20-96c9-ac09573cbb61"
      },
      "execution_count": 41,
      "outputs": [
        {
          "output_type": "stream",
          "name": "stdout",
          "text": [
            "Enter a list of numbers separated by spaces: 2 3 5 9\n",
            "List of Numbers: [2, 3, 5, 9]\n"
          ]
        }
      ]
    },
    {
      "cell_type": "markdown",
      "source": [
        "**Code 5.6**: Taking Password Input without Displaying Characters\n",
        "\n",
        "**Important Point:**\n",
        "\n",
        "getpass.getpass() is used to take password input without displaying characters on the screen."
      ],
      "metadata": {
        "id": "XaCu3H06K3hL"
      }
    },
    {
      "cell_type": "code",
      "source": [
        "# Explanation: Taking a password input without displaying characters.\n",
        "import getpass\n",
        "\n",
        "password = getpass.getpass(\"Enter your password: \")\n",
        "print(\"Password entered.\")"
      ],
      "metadata": {
        "colab": {
          "base_uri": "https://localhost:8080/"
        },
        "id": "TsoCBKkuK-tr",
        "outputId": "70325a98-2d98-432f-b3ac-1084d2cce9a0"
      },
      "execution_count": 42,
      "outputs": [
        {
          "output_type": "stream",
          "name": "stdout",
          "text": [
            "Enter your password: ··········\n",
            "Password entered.\n"
          ]
        }
      ]
    },
    {
      "cell_type": "markdown",
      "source": [
        "**Code 5.7:** Taking Yes/No Input\n",
        "\n",
        "**Important Point:**\n",
        "\n",
        "Using lower() to handle both uppercase and lowercase input.\n"
      ],
      "metadata": {
        "id": "kwAosQEnLBa3"
      }
    },
    {
      "cell_type": "code",
      "source": [
        "# Explanation: Taking a yes/no input and converting to boolean.\n",
        "user_input = input(\"Do you want to continue? (yes/no): \").lower()\n",
        "continue_program = user_input == \"yes\"\n",
        "print(\"Continue Program:\", continue_program)"
      ],
      "metadata": {
        "colab": {
          "base_uri": "https://localhost:8080/"
        },
        "id": "QgUXblm_LLAk",
        "outputId": "8c6725ab-41e2-4504-ebf0-05712c260ed8"
      },
      "execution_count": 43,
      "outputs": [
        {
          "output_type": "stream",
          "name": "stdout",
          "text": [
            "Do you want to continue? (yes/no): yes\n",
            "Continue Program: True\n"
          ]
        }
      ]
    },
    {
      "cell_type": "markdown",
      "source": [
        "**Code 5.8:** Taking Input with Default Value\n",
        "\n",
        "**Important Point**:\n",
        "\n",
        "Providing a clear prompt improves user interaction.\n"
      ],
      "metadata": {
        "id": "hwfjh3YVLNRH"
      }
    },
    {
      "cell_type": "code",
      "source": [
        "# Explanation: Taking input with a default value.\n",
        "user_input = input(\"Enter something (or press Enter for default): \") or \"Default Value\"\n",
        "print(\"You entered:\", user_input)"
      ],
      "metadata": {
        "colab": {
          "base_uri": "https://localhost:8080/"
        },
        "id": "mu9jd5pRLhWX",
        "outputId": "6aacef32-1337-4fa4-803d-f678c7a2bf49"
      },
      "execution_count": 44,
      "outputs": [
        {
          "output_type": "stream",
          "name": "stdout",
          "text": [
            "Enter something (or press Enter for default): 34 shweta\n",
            "You entered: 34 shweta\n"
          ]
        }
      ]
    },
    {
      "cell_type": "markdown",
      "source": [
        "**Code 5.9:** Taking Input using eval()\n",
        "\n",
        "**Important Point:**\n",
        "\n",
        "Be cautious when using eval() as it can execute arbitrary code.\n"
      ],
      "metadata": {
        "id": "MTw4ppi6Lq4D"
      }
    },
    {
      "cell_type": "code",
      "source": [
        "# Explanation: Taking input and using eval() to evaluate expressions.\n",
        "expression = input(\"Enter a mathematical expression: \")\n",
        "result = eval(expression)\n",
        "print(\"Result:\", result)"
      ],
      "metadata": {
        "colab": {
          "base_uri": "https://localhost:8080/"
        },
        "id": "itSrDXH3LiN8",
        "outputId": "6877752d-311e-4092-cbdd-3a5003283e6d"
      },
      "execution_count": 45,
      "outputs": [
        {
          "output_type": "stream",
          "name": "stdout",
          "text": [
            "Enter a mathematical expression: 7.2\n",
            "Result: 7.2\n"
          ]
        }
      ]
    },
    {
      "cell_type": "markdown",
      "source": [
        "#Section 6: Advanced Topics and Best Practices\n"
      ],
      "metadata": {
        "id": "7Q48nrxxUweu"
      }
    },
    {
      "cell_type": "markdown",
      "source": [
        "**Code 6.1:** *List Comprehension with Condition*\n",
        "\n",
        "**Important Point:**\n",
        "\n",
        "List comprehension with a condition allows concise filtering.\n"
      ],
      "metadata": {
        "id": "-vw8JmLlU7wS"
      }
    },
    {
      "cell_type": "code",
      "source": [
        "# Syntax: new_list = [expression for item in iterable if condition]\n",
        "# Explanation: Using list comprehension to create a list of even numbers.\n",
        "numbers = [1, 2, 3, 4, 5, 6, 7, 8, 9]\n",
        "even_numbers = [x for x in numbers if x % 2 == 0]\n",
        "print(\"Even Numbers:\", even_numbers)"
      ],
      "metadata": {
        "colab": {
          "base_uri": "https://localhost:8080/"
        },
        "id": "mSyTXqugU635",
        "outputId": "7bcdf9f9-f24b-4572-823f-3fe0b5b00e69"
      },
      "execution_count": 46,
      "outputs": [
        {
          "output_type": "stream",
          "name": "stdout",
          "text": [
            "Even Numbers: [2, 4, 6, 8]\n"
          ]
        }
      ]
    },
    {
      "cell_type": "markdown",
      "source": [
        "**Code 6.2:** Handling Dates with datetime Module\n",
        "\n",
        "**Important Point**:\n",
        "\n",
        "The datetime module is powerful for handling dates and times.\n"
      ],
      "metadata": {
        "id": "0oon39NYVGhi"
      }
    },
    {
      "cell_type": "code",
      "source": [
        "# Syntax: from datetime import datetime\n",
        "# Explanation: Working with dates using the datetime module.\n",
        "from datetime import datetime\n",
        "\n",
        "current_date = datetime.now()\n",
        "print(\"Current Date and Time:\", current_date)"
      ],
      "metadata": {
        "colab": {
          "base_uri": "https://localhost:8080/"
        },
        "id": "JOHbemp4VOjy",
        "outputId": "badb43fd-506e-4eb7-de2e-caadb81eadd6"
      },
      "execution_count": 47,
      "outputs": [
        {
          "output_type": "stream",
          "name": "stdout",
          "text": [
            "Current Date and Time: 2023-12-07 16:09:46.504536\n"
          ]
        }
      ]
    },
    {
      "cell_type": "markdown",
      "source": [
        "**Code 6.3:** Using random Module for Random Values\n",
        "\n",
        "**Important Point:**\n",
        "\n",
        "The random module provides functions for working with random numbers."
      ],
      "metadata": {
        "id": "fKTQbQ4HVRGi"
      }
    },
    {
      "cell_type": "code",
      "source": [
        "# Syntax: import random\n",
        "# Explanation: Generating random numbers and shuffling a list.\n",
        "import random\n",
        "\n",
        "random_number = random.randint(1, 10)\n",
        "print(\"Random Number:\", random_number)\n",
        "\n",
        "my_list = [1, 2, 3, 4, 5]\n",
        "random.shuffle(my_list)\n",
        "print(\"Shuffled List:\", my_list)"
      ],
      "metadata": {
        "colab": {
          "base_uri": "https://localhost:8080/"
        },
        "id": "WDG9fxxDVaoY",
        "outputId": "045c07b5-77c2-460c-9358-b8bfc13b5d41"
      },
      "execution_count": 48,
      "outputs": [
        {
          "output_type": "stream",
          "name": "stdout",
          "text": [
            "Random Number: 5\n",
            "Shuffled List: [4, 2, 3, 1, 5]\n"
          ]
        }
      ]
    },
    {
      "cell_type": "markdown",
      "source": [
        "**Code 6.4:** Exception Chaining\n",
        "\n",
        "**Important Point:**\n",
        "\n",
        "Use exception chaining to provide more context to the error.\n"
      ],
      "metadata": {
        "id": "_8gzm-DYVfgV"
      }
    },
    {
      "cell_type": "code",
      "source": [
        "def divide_numbers(a, b):\n",
        "    try:\n",
        "        result = a / b\n",
        "    except ZeroDivisionError as e:\n",
        "        raise ValueError(\"Invalid operation: Division by zero\") from e\n",
        "    return result\n",
        "\n",
        "try:\n",
        "    result = divide_numbers(10, 0)\n",
        "    print(\"Result:\", result)\n",
        "except ValueError as ve:\n",
        "    print(f\"Error: {ve}\")\n"
      ],
      "metadata": {
        "colab": {
          "base_uri": "https://localhost:8080/"
        },
        "id": "Q_TlrC9RIfXk",
        "outputId": "de2d16af-d8e3-4fc8-de0b-89fb2f921193"
      },
      "execution_count": 85,
      "outputs": [
        {
          "output_type": "stream",
          "name": "stdout",
          "text": [
            "Error: Invalid operation: Division by zero\n"
          ]
        }
      ]
    },
    {
      "cell_type": "markdown",
      "source": [
        "**Code 6.5:** Using collections Module for Counter\n",
        "\n",
        "**Important Point:**\n",
        "\n",
        "The Counter class simplifies counting occurrences of elements in a collection."
      ],
      "metadata": {
        "id": "UX4p-chHVrah"
      }
    },
    {
      "cell_type": "code",
      "source": [
        "# Syntax: from collections import Counter\n",
        "# Explanation: Counting occurrences of elements in a list.\n",
        "from collections import Counter\n",
        "\n",
        "my_list = [1, 2, 3, 1, 2, 1, 3, 4, 5]\n",
        "element_counts = Counter(my_list)\n",
        "print(\"Element Counts:\", element_counts)"
      ],
      "metadata": {
        "colab": {
          "base_uri": "https://localhost:8080/"
        },
        "id": "L7zoaS4aVyFi",
        "outputId": "c5e8251d-4f61-4543-94ae-13c6dbea8d06"
      },
      "execution_count": 50,
      "outputs": [
        {
          "output_type": "stream",
          "name": "stdout",
          "text": [
            "Element Counts: Counter({1: 3, 2: 2, 3: 2, 4: 1, 5: 1})\n"
          ]
        }
      ]
    },
    {
      "cell_type": "markdown",
      "source": [
        "**Code 6.6:** Using map() with Multiple Iterables\n",
        "\n",
        "**Important Point:**\n",
        "\n",
        "map() can work with multiple iterables simultaneously.\n"
      ],
      "metadata": {
        "id": "N2Re-QH0V-yO"
      }
    },
    {
      "cell_type": "code",
      "source": [
        "# Explanation: Using map with multiple iterables.\n",
        "numbers1 = [1, 2, 3]\n",
        "numbers2 = [4, 5, 6]\n",
        "sums = list(map(lambda x, y: x + y, numbers1, numbers2))\n",
        "print(\"Sums:\", sums)"
      ],
      "metadata": {
        "colab": {
          "base_uri": "https://localhost:8080/"
        },
        "id": "MNS47XKEWFkk",
        "outputId": "cbdc8b85-cfbd-4224-ef8b-013fe7e181e7"
      },
      "execution_count": 51,
      "outputs": [
        {
          "output_type": "stream",
          "name": "stdout",
          "text": [
            "Sums: [5, 7, 9]\n"
          ]
        }
      ]
    },
    {
      "cell_type": "code",
      "source": [
        "numbers1 = [1, 2, 3]\n",
        "numbers2 = [4, 5, 6]\n",
        "sums = list(map(lambda numbers1, numbers2: numbers1 + numbers2, numbers1, numbers2))\n",
        "print(\"Sums:\", sums)"
      ],
      "metadata": {
        "colab": {
          "base_uri": "https://localhost:8080/"
        },
        "id": "045btfx7DoCh",
        "outputId": "7dd6571e-c307-47b5-f8a6-45694a664c6c"
      },
      "execution_count": 54,
      "outputs": [
        {
          "output_type": "stream",
          "name": "stdout",
          "text": [
            "Sums: [5, 7, 9]\n"
          ]
        }
      ]
    },
    {
      "cell_type": "markdown",
      "source": [
        "**Code 6.7:** Python's any() and all()\n",
        "\n",
        "**Important Point:**\n",
        "\n",
        "any() returns True if at least one element is true, while all() returns True if all elements are true.\n"
      ],
      "metadata": {
        "id": "KyEV7c-XWM8l"
      }
    },
    {
      "cell_type": "code",
      "source": [
        "# Explanation: Using any() and all() for boolean checks.\n",
        "bool_list = [True, False, True, True]\n",
        "any_result = any(bool_list)\n",
        "all_result = all(bool_list)\n",
        "\n",
        "print(\"Any True:\", any_result)\n",
        "print(\"All True:\", all_result)"
      ],
      "metadata": {
        "colab": {
          "base_uri": "https://localhost:8080/"
        },
        "id": "-kosOX0sWTPT",
        "outputId": "cbd92608-1f87-4fe5-a5c3-2b1dd4fe3e00"
      },
      "execution_count": 55,
      "outputs": [
        {
          "output_type": "stream",
          "name": "stdout",
          "text": [
            "Any True: True\n",
            "All True: False\n"
          ]
        }
      ]
    },
    {
      "cell_type": "markdown",
      "source": [
        "# if statements, else statements, and loops:"
      ],
      "metadata": {
        "id": "R30VMYq62Tcg"
      }
    },
    {
      "cell_type": "markdown",
      "source": [
        "**If Statements:**\n"
      ],
      "metadata": {
        "id": "E_fbM-Qs2xbq"
      }
    },
    {
      "cell_type": "code",
      "source": [
        "number = 5\n",
        "if number > 0:\n",
        "    print(\"Number is positive.\")"
      ],
      "metadata": {
        "colab": {
          "base_uri": "https://localhost:8080/"
        },
        "id": "Pl9BkNj52oNl",
        "outputId": "6adf434c-4b4d-4d33-f75d-6b941ef6e60f"
      },
      "execution_count": 56,
      "outputs": [
        {
          "output_type": "stream",
          "name": "stdout",
          "text": [
            "Number is positive.\n"
          ]
        }
      ]
    },
    {
      "cell_type": "markdown",
      "source": [
        "**If-else statement:**"
      ],
      "metadata": {
        "id": "bICnk3eP3pN_"
      }
    },
    {
      "cell_type": "code",
      "source": [
        "number = -2\n",
        "if number > 0:\n",
        "    print(\"Number is positive.\")\n",
        "else:\n",
        "    print(\"Number is non-positive.\")"
      ],
      "metadata": {
        "colab": {
          "base_uri": "https://localhost:8080/"
        },
        "id": "EpLXtTR_3sJO",
        "outputId": "0cbc3496-6111-432e-bf40-e9d736015ac4"
      },
      "execution_count": 57,
      "outputs": [
        {
          "output_type": "stream",
          "name": "stdout",
          "text": [
            "Number is non-positive.\n"
          ]
        }
      ]
    },
    {
      "cell_type": "markdown",
      "source": [
        "**If-elif-else ladder:**"
      ],
      "metadata": {
        "id": "In61byZZ3z2x"
      }
    },
    {
      "cell_type": "code",
      "source": [
        "grade = 75\n",
        "if grade >= 90:\n",
        "    print(\"A\")\n",
        "elif 80 <= grade < 90:\n",
        "    print(\"B\")\n",
        "elif 70 <= grade < 80:\n",
        "    print(\"C\")\n",
        "else:\n",
        "    print(\"Below C\")"
      ],
      "metadata": {
        "colab": {
          "base_uri": "https://localhost:8080/"
        },
        "id": "Me-9nPfC36I6",
        "outputId": "4aad099c-3e20-48c5-a36d-6cc87feaf198"
      },
      "execution_count": 58,
      "outputs": [
        {
          "output_type": "stream",
          "name": "stdout",
          "text": [
            "C\n"
          ]
        }
      ]
    },
    {
      "cell_type": "markdown",
      "source": [
        "# Loops:\n"
      ],
      "metadata": {
        "id": "LQeZnFmc3803"
      }
    },
    {
      "cell_type": "markdown",
      "source": [
        "**While loop:**"
      ],
      "metadata": {
        "id": "Uwsh_Tjp4AF0"
      }
    },
    {
      "cell_type": "code",
      "source": [
        "count = 0\n",
        "while count < 5:\n",
        "    print(\"Count:\", count)\n",
        "    count += 1"
      ],
      "metadata": {
        "colab": {
          "base_uri": "https://localhost:8080/"
        },
        "id": "ZDZsCJ3s4DtP",
        "outputId": "412b216d-6481-47a5-efb9-79c34a6b8237"
      },
      "execution_count": 59,
      "outputs": [
        {
          "output_type": "stream",
          "name": "stdout",
          "text": [
            "Count: 0\n",
            "Count: 1\n",
            "Count: 2\n",
            "Count: 3\n",
            "Count: 4\n"
          ]
        }
      ]
    },
    {
      "cell_type": "markdown",
      "source": [
        "**Infinite loop with break statement:**"
      ],
      "metadata": {
        "id": "GCkw3AMw4GRP"
      }
    },
    {
      "cell_type": "code",
      "source": [
        "while True:\n",
        "    user_input = input(\"Enter 'exit' to break: \")\n",
        "    if user_input.lower() == 'exit':\n",
        "        break"
      ],
      "metadata": {
        "colab": {
          "base_uri": "https://localhost:8080/"
        },
        "id": "kyQ_7Lq44Kuy",
        "outputId": "a9e9b6d8-febf-452a-aae9-33f9ed3a416b"
      },
      "execution_count": 60,
      "outputs": [
        {
          "name": "stdout",
          "output_type": "stream",
          "text": [
            "Enter 'exit' to break: kj\n",
            "Enter 'exit' to break: exit\n"
          ]
        }
      ]
    },
    {
      "cell_type": "markdown",
      "source": [
        "**For loop over a range:**"
      ],
      "metadata": {
        "id": "tAVi9D3_4Usn"
      }
    },
    {
      "cell_type": "code",
      "source": [
        "for i in range(5):\n",
        "    print(\"Iteration:\", i)"
      ],
      "metadata": {
        "colab": {
          "base_uri": "https://localhost:8080/"
        },
        "id": "kV7OzuTS4oo3",
        "outputId": "9cd15e1a-4301-449c-a699-985736f372db"
      },
      "execution_count": 61,
      "outputs": [
        {
          "output_type": "stream",
          "name": "stdout",
          "text": [
            "Iteration: 0\n",
            "Iteration: 1\n",
            "Iteration: 2\n",
            "Iteration: 3\n",
            "Iteration: 4\n"
          ]
        }
      ]
    },
    {
      "cell_type": "markdown",
      "source": [
        "**Nested loops:**"
      ],
      "metadata": {
        "id": "yYQdacot4r2r"
      }
    },
    {
      "cell_type": "code",
      "source": [
        "for i in range(3):\n",
        "    for j in range(2):\n",
        "        print(f\"({i}, {j})\")"
      ],
      "metadata": {
        "colab": {
          "base_uri": "https://localhost:8080/"
        },
        "id": "Ip1aVnq141RL",
        "outputId": "56a0ae86-045a-4313-d03d-c22e0add31e4"
      },
      "execution_count": 62,
      "outputs": [
        {
          "output_type": "stream",
          "name": "stdout",
          "text": [
            "(0, 0)\n",
            "(0, 1)\n",
            "(1, 0)\n",
            "(1, 1)\n",
            "(2, 0)\n",
            "(2, 1)\n"
          ]
        }
      ]
    },
    {
      "cell_type": "markdown",
      "source": [
        "**For loop over a list:**"
      ],
      "metadata": {
        "id": "3LhX6pvD44qf"
      }
    },
    {
      "cell_type": "code",
      "source": [
        "fruits = [\"apple\", \"banana\", \"orange\"]\n",
        "for fruit in fruits:\n",
        "    print(\"Fruit:\", fruit)"
      ],
      "metadata": {
        "colab": {
          "base_uri": "https://localhost:8080/"
        },
        "id": "TBnocj-k49yg",
        "outputId": "0c2056ca-9bc3-464d-9fd1-afb11914584e"
      },
      "execution_count": 63,
      "outputs": [
        {
          "output_type": "stream",
          "name": "stdout",
          "text": [
            "Fruit: apple\n",
            "Fruit: banana\n",
            "Fruit: orange\n"
          ]
        }
      ]
    },
    {
      "cell_type": "markdown",
      "source": [
        "**Loop with continue statement:**"
      ],
      "metadata": {
        "id": "8n4xfT115Amw"
      }
    },
    {
      "cell_type": "code",
      "source": [
        "for i in range(5):\n",
        "    if i == 2:\n",
        "        continue\n",
        "    print(\"Iteration:\", i)"
      ],
      "metadata": {
        "colab": {
          "base_uri": "https://localhost:8080/"
        },
        "id": "b2V_FvUY5ET7",
        "outputId": "afd6f750-7f34-44eb-a03e-52e0358178c7"
      },
      "execution_count": 64,
      "outputs": [
        {
          "output_type": "stream",
          "name": "stdout",
          "text": [
            "Iteration: 0\n",
            "Iteration: 1\n",
            "Iteration: 3\n",
            "Iteration: 4\n"
          ]
        }
      ]
    },
    {
      "cell_type": "markdown",
      "source": [
        "#Combining Control Structures:\n"
      ],
      "metadata": {
        "id": "Xgl_7kVf5GG8"
      }
    },
    {
      "cell_type": "markdown",
      "source": [
        "**Loop with if statement:**"
      ],
      "metadata": {
        "id": "eKustr3v5M35"
      }
    },
    {
      "cell_type": "code",
      "source": [
        "numbers = [1, 2, 3, 4, 5]\n",
        "for num in numbers:\n",
        "    if num % 2 == 0:\n",
        "        print(\"Even:\", num)"
      ],
      "metadata": {
        "colab": {
          "base_uri": "https://localhost:8080/"
        },
        "id": "OFL4hnm45IsM",
        "outputId": "7816a3e4-e389-4096-9fc8-3931a8f038bc"
      },
      "execution_count": 65,
      "outputs": [
        {
          "output_type": "stream",
          "name": "stdout",
          "text": [
            "Even: 2\n",
            "Even: 4\n"
          ]
        }
      ]
    },
    {
      "cell_type": "markdown",
      "source": [
        "**While loop with else statement:**"
      ],
      "metadata": {
        "id": "BXhqwMux5RVD"
      }
    },
    {
      "cell_type": "code",
      "source": [
        "count = 0\n",
        "while count < 3:\n",
        "    print(\"Inside while loop.\")\n",
        "    count += 1\n",
        "else:\n",
        "    print(\"Outside while loop.\")"
      ],
      "metadata": {
        "colab": {
          "base_uri": "https://localhost:8080/"
        },
        "id": "s-OKXgn35VVA",
        "outputId": "f5a4a8fb-fe56-403c-a1b8-06595c9e78bd"
      },
      "execution_count": 66,
      "outputs": [
        {
          "output_type": "stream",
          "name": "stdout",
          "text": [
            "Inside while loop.\n",
            "Inside while loop.\n",
            "Inside while loop.\n",
            "Outside while loop.\n"
          ]
        }
      ]
    },
    {
      "cell_type": "markdown",
      "source": [
        "**If statement inside a for loop:**"
      ],
      "metadata": {
        "id": "-WfOY3Xu5YDN"
      }
    },
    {
      "cell_type": "code",
      "source": [
        "numbers = [1, 2, 3, 4, 5]\n",
        "for num in numbers:\n",
        "    if num % 2 == 0:\n",
        "        print(\"Even:\", num)\n",
        "    else:\n",
        "        print(\"Odd:\", num)"
      ],
      "metadata": {
        "colab": {
          "base_uri": "https://localhost:8080/"
        },
        "id": "eBiNkTfxAXsO",
        "outputId": "0479ae86-4a90-4fff-d045-aee5458d4e63"
      },
      "execution_count": 67,
      "outputs": [
        {
          "output_type": "stream",
          "name": "stdout",
          "text": [
            "Odd: 1\n",
            "Even: 2\n",
            "Odd: 3\n",
            "Even: 4\n",
            "Odd: 5\n"
          ]
        }
      ]
    },
    {
      "cell_type": "markdown",
      "source": [
        "**Using a break statement in a for loop:**"
      ],
      "metadata": {
        "id": "AXKDKS-4AlEy"
      }
    },
    {
      "cell_type": "code",
      "source": [
        "numbers = [1, 2, 3, 4, 5]\n",
        "for num in numbers:\n",
        "    if num == 3:\n",
        "        break\n",
        "    print(\"Number:\", num)"
      ],
      "metadata": {
        "colab": {
          "base_uri": "https://localhost:8080/"
        },
        "id": "yW_xqZ8FA61F",
        "outputId": "342c74db-bc5c-487d-b6f5-c12fbede8ef5"
      },
      "execution_count": 69,
      "outputs": [
        {
          "output_type": "stream",
          "name": "stdout",
          "text": [
            "Number: 1\n",
            "Number: 2\n"
          ]
        }
      ]
    },
    {
      "cell_type": "markdown",
      "source": [
        "**Loop with an else statement and a condition:**"
      ],
      "metadata": {
        "id": "xFjoy8qcBBhB"
      }
    },
    {
      "cell_type": "code",
      "source": [
        "numbers = [1, 2, 3, 4, 5]\n",
        "for num in numbers:\n",
        "    print(\"Number:\", num)\n",
        "else:\n",
        "    print(\"Loop completed.\")"
      ],
      "metadata": {
        "colab": {
          "base_uri": "https://localhost:8080/"
        },
        "id": "C2jeAyJqBHrG",
        "outputId": "849d38e7-94c5-4b55-e19d-d4114f808d1b"
      },
      "execution_count": 70,
      "outputs": [
        {
          "output_type": "stream",
          "name": "stdout",
          "text": [
            "Number: 1\n",
            "Number: 2\n",
            "Number: 3\n",
            "Number: 4\n",
            "Number: 5\n",
            "Loop completed.\n"
          ]
        }
      ]
    },
    {
      "cell_type": "markdown",
      "source": [
        "**Nested if statements inside a loop:**"
      ],
      "metadata": {
        "id": "qHYhOmzLBLik"
      }
    },
    {
      "cell_type": "code",
      "source": [
        "numbers = [1, 2, 3, 4, 5]\n",
        "for num in numbers:\n",
        "    if num % 2 == 0:\n",
        "        if num == 4:\n",
        "            print(\"Even and equal to 4\")\n",
        "        else:\n",
        "            print(\"Even:\", num)\n",
        "    else:\n",
        "        print(\"Odd:\", num)"
      ],
      "metadata": {
        "colab": {
          "base_uri": "https://localhost:8080/"
        },
        "id": "JFFsCErqBQYb",
        "outputId": "b5b15bc5-e37b-4ab2-ae9d-a61f93e1e9a6"
      },
      "execution_count": 71,
      "outputs": [
        {
          "output_type": "stream",
          "name": "stdout",
          "text": [
            "Odd: 1\n",
            "Even: 2\n",
            "Odd: 3\n",
            "Even and equal to 4\n",
            "Odd: 5\n"
          ]
        }
      ]
    },
    {
      "cell_type": "markdown",
      "source": [
        "**Using a continue statement in a while loop:**"
      ],
      "metadata": {
        "id": "OqC7y1uIBXIW"
      }
    },
    {
      "cell_type": "code",
      "source": [
        "count = 0\n",
        "while count < 5:\n",
        "    count += 1\n",
        "    if count == 3:\n",
        "        continue\n",
        "    print(\"Count:\", count)"
      ],
      "metadata": {
        "colab": {
          "base_uri": "https://localhost:8080/"
        },
        "id": "HBFGHFN5BY5f",
        "outputId": "e29d0bc8-5c9e-4cd7-83bb-e07b01d1577a"
      },
      "execution_count": 72,
      "outputs": [
        {
          "output_type": "stream",
          "name": "stdout",
          "text": [
            "Count: 1\n",
            "Count: 2\n",
            "Count: 4\n",
            "Count: 5\n"
          ]
        }
      ]
    },
    {
      "cell_type": "markdown",
      "source": [
        "**Looping through a dictionary:**"
      ],
      "metadata": {
        "id": "yjis2YPqBcFn"
      }
    },
    {
      "cell_type": "code",
      "source": [
        "student_grades = {\"Alice\": 90, \"Bob\": 85, \"Charlie\": 78}\n",
        "for name, grade in student_grades.items():\n",
        "    print(f\"{name}'s grade: {grade}\")"
      ],
      "metadata": {
        "colab": {
          "base_uri": "https://localhost:8080/"
        },
        "id": "t63eQ9n_BgVw",
        "outputId": "73d6ab85-5b40-4ca3-ff5d-daba99579ca3"
      },
      "execution_count": 73,
      "outputs": [
        {
          "output_type": "stream",
          "name": "stdout",
          "text": [
            "Alice's grade: 90\n",
            "Bob's grade: 85\n",
            "Charlie's grade: 78\n"
          ]
        }
      ]
    },
    {
      "cell_type": "markdown",
      "source": [
        "**Using enumerate in a for loop:**"
      ],
      "metadata": {
        "id": "MWHZAty6BjAZ"
      }
    },
    {
      "cell_type": "code",
      "source": [
        "fruits = [\"apple\", \"banana\", \"orange\"]\n",
        "for index, fruit in enumerate(fruits):\n",
        "    print(f\"Index: {index}, Fruit: {fruit}\")"
      ],
      "metadata": {
        "colab": {
          "base_uri": "https://localhost:8080/"
        },
        "id": "OKTBWsRsBtIz",
        "outputId": "31ef32cd-70a5-4e8f-df2a-7eff0faed4ac"
      },
      "execution_count": 74,
      "outputs": [
        {
          "output_type": "stream",
          "name": "stdout",
          "text": [
            "Index: 0, Fruit: apple\n",
            "Index: 1, Fruit: banana\n",
            "Index: 2, Fruit: orange\n"
          ]
        }
      ]
    },
    {
      "cell_type": "markdown",
      "source": [
        "**Looping through a string:**"
      ],
      "metadata": {
        "id": "r0Srx0cTBv9F"
      }
    },
    {
      "cell_type": "code",
      "source": [
        "word = \"Python\"\n",
        "for char in word:\n",
        "    print(\"Character:\", char)"
      ],
      "metadata": {
        "colab": {
          "base_uri": "https://localhost:8080/"
        },
        "id": "yATN5yGdBzWK",
        "outputId": "f664cc9c-88f5-4cd7-ac90-740a5f8a3d00"
      },
      "execution_count": 75,
      "outputs": [
        {
          "output_type": "stream",
          "name": "stdout",
          "text": [
            "Character: P\n",
            "Character: y\n",
            "Character: t\n",
            "Character: h\n",
            "Character: o\n",
            "Character: n\n"
          ]
        }
      ]
    },
    {
      "cell_type": "markdown",
      "source": [
        "**Loop with a conditional break:**"
      ],
      "metadata": {
        "id": "lcPOInPKB3H-"
      }
    },
    {
      "cell_type": "code",
      "source": [
        "numbers = [1, 2, 3, 4, 5]\n",
        "for num in numbers:\n",
        "    if num == 4:\n",
        "        print(\"Breaking at 4\")\n",
        "        break\n",
        "    print(\"Number:\", num)"
      ],
      "metadata": {
        "colab": {
          "base_uri": "https://localhost:8080/"
        },
        "id": "XfJcxANnB2Q1",
        "outputId": "47d07fd2-ee61-4352-b000-6329567867fb"
      },
      "execution_count": 76,
      "outputs": [
        {
          "output_type": "stream",
          "name": "stdout",
          "text": [
            "Number: 1\n",
            "Number: 2\n",
            "Number: 3\n",
            "Breaking at 4\n"
          ]
        }
      ]
    }
  ]
}