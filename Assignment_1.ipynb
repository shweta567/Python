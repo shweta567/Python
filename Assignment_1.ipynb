{
  "nbformat": 4,
  "nbformat_minor": 0,
  "metadata": {
    "colab": {
      "provenance": [],
      "authorship_tag": "ABX9TyO+i3GXGedSJPSrK1Ywdipb",
      "include_colab_link": true
    },
    "kernelspec": {
      "name": "python3",
      "display_name": "Python 3"
    },
    "language_info": {
      "name": "python"
    }
  },
  "cells": [
    {
      "cell_type": "markdown",
      "metadata": {
        "id": "view-in-github",
        "colab_type": "text"
      },
      "source": [
        "<a href=\"https://colab.research.google.com/github/shweta567/Python/blob/main/Assignment_1.ipynb\" target=\"_parent\"><img src=\"https://colab.research.google.com/assets/colab-badge.svg\" alt=\"Open In Colab\"/></a>"
      ]
    },
    {
      "cell_type": "markdown",
      "source": [
        "1.Write a program to find the factors of a given number and check whether the factor is even or odd.\n",
        "\n",
        "Hint: Use Loop with if-else statements"
      ],
      "metadata": {
        "id": "ptZM1inQC-it"
      }
    },
    {
      "cell_type": "code",
      "source": [
        "# Get input from the user\n",
        "num = int(input(\"Enter a number: \"))\n",
        "\n",
        "print(f\"Factors of {num} are:\")\n",
        "\n",
        "# Loop through numbers from 1 to num and find factors\n",
        "for i in range(1, num + 1):\n",
        "    if num % i == 0:  # i is a factor of num\n",
        "        print(i)\n",
        "\n",
        "# Check if the factor is even or odd\n",
        "if i % 2 == 0:\n",
        "    print(f\"{i} is even.\")\n",
        "else:\n",
        "    print(f\"{i} is odd.\")\n"
      ],
      "metadata": {
        "colab": {
          "base_uri": "https://localhost:8080/"
        },
        "id": "4f9pGzHgGUyG",
        "outputId": "97d8a992-b9d4-46be-fea3-3298fa6d115a"
      },
      "execution_count": 5,
      "outputs": [
        {
          "output_type": "stream",
          "name": "stdout",
          "text": [
            "Enter a number: 9\n",
            "Factors of 9 are:\n",
            "1\n",
            "3\n",
            "9\n",
            "9 is odd.\n"
          ]
        }
      ]
    },
    {
      "cell_type": "code",
      "source": [
        "# Get input from the user\n",
        "num = int(input(\"Enter a number: \"))\n",
        "\n",
        "print(f\"Factors of {num} are:\")\n",
        "\n",
        "# List to store odd factors\n",
        "odd_factors = []\n",
        "even_factors = []\n",
        "\n",
        "# Loop through numbers from 1 to num and find factors\n",
        "for i in range(1, num + 1):\n",
        "    if num % i == 0:  # i is a factor of num\n",
        "        print(i)\n",
        "        # Check if the factor is odd and add it to the list\n",
        "        if i % 2 == 0:\n",
        "            even_factors.append(str(i))\n",
        "        # Check if the factor is even and add it to the list\n",
        "        else:\n",
        "          if i%2!=0:\n",
        "            odd_factors.append(str(i))\n",
        "# Output odd factors\n",
        "if odd_factors:\n",
        "    print(','.join(odd_factors), \"are odd numbers\")\n",
        "if even_factors:\n",
        "    print(','.join(even_factors), \"are even numbers\")\n"
      ],
      "metadata": {
        "colab": {
          "base_uri": "https://localhost:8080/"
        },
        "id": "-RLfvyWDInuH",
        "outputId": "24e64984-3e82-48f2-9d51-5bb6d6ce7139"
      },
      "execution_count": 9,
      "outputs": [
        {
          "output_type": "stream",
          "name": "stdout",
          "text": [
            "Enter a number: 9766\n",
            "Factors of 9766 are:\n",
            "1\n",
            "2\n",
            "19\n",
            "38\n",
            "257\n",
            "514\n",
            "4883\n",
            "9766\n",
            "1,19,257,4883 are odd numbers\n",
            "2,38,514,9766 are even numbers\n"
          ]
        }
      ]
    },
    {
      "cell_type": "markdown",
      "source": [
        "**Write a code that accepts a sequence of words as input and prints the words in a sequence after sorting them alphabetically.**\n",
        "\n",
        "Hint: Use split() to split the string into a list and then apply sort()"
      ],
      "metadata": {
        "id": "lF8Ry3wBOny9"
      }
    },
    {
      "cell_type": "code",
      "source": [
        "# Get input sequence of words from the user\n",
        "input_words = input(\"Enter a sequence of words separated by spaces: \")\n",
        "\n",
        "# Split the input string into a list of words\n",
        "words_list = input_words.split()\n",
        "\n",
        "# Sort the list of words alphabetically\n",
        "sorted_words = sorted(words_list)\n",
        "\n",
        "# Print the sorted words\n",
        "print(\"Sorted words:\")\n",
        "print(' '.join(sorted_words))\n"
      ],
      "metadata": {
        "colab": {
          "base_uri": "https://localhost:8080/"
        },
        "id": "2U_70-veKqD9",
        "outputId": "94bdec47-1618-4eda-b4a1-2d8ee710ee29"
      },
      "execution_count": 15,
      "outputs": [
        {
          "output_type": "stream",
          "name": "stdout",
          "text": [
            "Enter a sequence of words separated by spaces: get raw data \n",
            "Sorted words:\n",
            "data get raw\n"
          ]
        }
      ]
    },
    {
      "cell_type": "code",
      "source": [
        ""
      ],
      "metadata": {
        "id": "iwUmPhDta6lw"
      },
      "execution_count": 15,
      "outputs": []
    },
    {
      "cell_type": "markdown",
      "source": [
        "**Write a program that will find all the numbers between 1000 and 3000 (both excluded) such that each digit of a number is an odd number.**\n",
        "Print the number of such elements"
      ],
      "metadata": {
        "id": "_TexBXlEcCOJ"
      }
    },
    {
      "cell_type": "code",
      "source": [
        "# Initialize a counter for the numbers meeting the criteria\n",
        "count = 0\n",
        "print(\"*****************These are the Numbers************************\")\n",
        "\n",
        "\n",
        "# Iterate through numbers from 1001 to 2999 (both excluded)\n",
        "for num in range(1001, 3000):\n",
        "    # Check if each digit in the number is odd\n",
        "    if all(int(digit) % 2 != 0 for digit in str(num)):\n",
        "        count += 1\n",
        "      # Print the Number which has all odd digit\n",
        "        print(num)\n"
      ],
      "metadata": {
        "id": "UHvqvuOLbw8U"
      },
      "execution_count": null,
      "outputs": []
    },
    {
      "cell_type": "markdown",
      "source": [
        "**Write a program that accepts a string and calculates the number of letters and digits.Suppose if the entered string is: Edureka123**\n",
        "\n",
        "Then the output will be:\n",
        "LETTERS: -7\n",
        "DIGITS: -3\n"
      ],
      "metadata": {
        "id": "kX50YMEWfSIs"
      }
    },
    {
      "cell_type": "code",
      "source": [
        "# Get input string from the user\n",
        "input_string = input(\"Enter a string: \")\n",
        "\n",
        "# Initialize counters for letters and digits\n",
        "letter_count = 0\n",
        "digit_count = 0\n",
        "\n",
        "# Iterate through characters in the input string\n",
        "for char in input_string:\n",
        "    if char.isalpha():\n",
        "        letter_count += 1\n",
        "    elif char.isdigit():\n",
        "        digit_count += 1\n",
        "\n",
        "# Print the counts with specified format\n",
        "print(\"LETTERS: \", letter_count)\n",
        "print(\"DIGITS: \", digit_count)\n"
      ],
      "metadata": {
        "colab": {
          "base_uri": "https://localhost:8080/"
        },
        "id": "0ujysoMAdSmq",
        "outputId": "518dff1d-82b4-4a81-a38b-565ecafdf0d7"
      },
      "execution_count": 23,
      "outputs": [
        {
          "output_type": "stream",
          "name": "stdout",
          "text": [
            "Enter a string: Shweta1234\n",
            "LETTERS:  6\n",
            "DIGITS:  4\n"
          ]
        }
      ]
    },
    {
      "cell_type": "markdown",
      "source": [
        "**Design a code which will find whether the given number is Palindrome number or not**"
      ],
      "metadata": {
        "id": "uFDlC1njgKVC"
      }
    },
    {
      "cell_type": "code",
      "source": [
        "# Get input number from the user\n",
        "num = int(input(\"Enter a number: \"))\n",
        "\n",
        "# Convert the number to a string to facilitate comparison\n",
        "num_str = str(num)\n",
        "\n",
        "# Reverse the string using slicing and check if it equals the original string\n",
        "if num_str == num_str[::-1]:\n",
        "    print(f\"{num} is a Palindrome number.\")\n",
        "else:\n",
        "    print(f\"{num} is not a Palindrome number.\")\n"
      ],
      "metadata": {
        "colab": {
          "base_uri": "https://localhost:8080/"
        },
        "id": "IUlXMOgefyYo",
        "outputId": "7c6093da-a45f-4e2a-bdc3-9a3a8eb79160"
      },
      "execution_count": 26,
      "outputs": [
        {
          "output_type": "stream",
          "name": "stdout",
          "text": [
            "Enter a number: 23456\n",
            "23456 is not a Palindrome number.\n"
          ]
        }
      ]
    },
    {
      "cell_type": "code",
      "source": [],
      "metadata": {
        "id": "vJ6n9hFhgTQg"
      },
      "execution_count": null,
      "outputs": []
    }
  ]
}