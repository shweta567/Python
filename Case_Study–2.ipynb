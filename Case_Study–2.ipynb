{
  "nbformat": 4,
  "nbformat_minor": 0,
  "metadata": {
    "colab": {
      "provenance": [],
      "authorship_tag": "ABX9TyMLk1vBvybYGV2znwYBsgdA",
      "include_colab_link": true
    },
    "kernelspec": {
      "name": "python3",
      "display_name": "Python 3"
    },
    "language_info": {
      "name": "python"
    }
  },
  "cells": [
    {
      "cell_type": "markdown",
      "metadata": {
        "id": "view-in-github",
        "colab_type": "text"
      },
      "source": [
        "<a href=\"https://colab.research.google.com/github/shweta567/Python/blob/main/Case_Study%E2%80%932.ipynb\" target=\"_parent\"><img src=\"https://colab.research.google.com/assets/colab-badge.svg\" alt=\"Open In Colab\"/></a>"
      ]
    },
    {
      "cell_type": "markdown",
      "source": [
        "1.What is the output of the following code?\n",
        "nums =set([1,1,2,3,3,3,4,4])\n",
        "print(len(nums))\n",
        "Hint: Set consists unique element. bold text bold text\n",
        "'''\n"
      ],
      "metadata": {
        "id": "1048DQ5S4NL6"
      }
    },
    {
      "cell_type": "code",
      "execution_count": null,
      "metadata": {
        "colab": {
          "base_uri": "https://localhost:8080/"
        },
        "id": "6XD3jZm54Gt0",
        "outputId": "12f82208-446a-4799-a623-ba325b24d40b"
      },
      "outputs": [
        {
          "output_type": "stream",
          "name": "stdout",
          "text": [
            "Answer for Question 1 Begins \n",
            "Output is 4 as Set removes duplicates & keeps only unique elements \n",
            "\n",
            "\n"
          ]
        }
      ],
      "source": [
        "print('Answer for Question 1 Begins ')\n",
        "\n",
        "print('Output is 4 as Set removes duplicates & keeps only unique elements ')\n",
        "print('\\n')"
      ]
    },
    {
      "cell_type": "markdown",
      "source": [
        "**2. What will be the output?d ={\"john\":40, \"peter\":45}print(list(d.keys()))**"
      ],
      "metadata": {
        "id": "GNvxVrKN5c7c"
      }
    },
    {
      "cell_type": "code",
      "source": [
        "d ={\"john\":40, \"peter\":45}\n",
        "print(list(d.keys()))\n",
        "#print(d.keys())"
      ],
      "metadata": {
        "colab": {
          "base_uri": "https://localhost:8080/"
        },
        "id": "tM6FzkWE4u3f",
        "outputId": "92c599fa-602e-49fb-c041-067a7967adc8"
      },
      "execution_count": null,
      "outputs": [
        {
          "output_type": "stream",
          "name": "stdout",
          "text": [
            "['john', 'peter']\n"
          ]
        }
      ]
    },
    {
      "cell_type": "markdown",
      "source": [
        "3. A website requires a user to input a username and password to register. Write a program to check the validity of the password given by the user. Following are the criteria for checking password:1. At least 1 letter between [a-z]2. At least 1 number between [0-9]1. At least 1 letter between [A-Z]3. At least 1 character from [$#@]4. Minimum length of transaction password: 65. Maximum length of transaction password: 12"
      ],
      "metadata": {
        "id": "cL2wtJ9Z51II"
      }
    },
    {
      "cell_type": "code",
      "source": [
        "import re\n",
        "\n",
        "\n",
        "def is_valid_password(password):\n",
        "    # Check length\n",
        "    if len(password) < 6 or len(password) > 12:\n",
        "        return False\n",
        "\n",
        "    # Check if there is at least 1 lowercase letter\n",
        "    if not re.search(\"[a-z]\", password):\n",
        "        return False\n",
        "\n",
        "    # Check if there is at least 1 uppercase letter\n",
        "    if not re.search(\"[A-Z]\", password):\n",
        "        return False\n",
        "\n",
        "    # Check if there is at least 1 digit\n",
        "    if not re.search(\"[0-9]\", password):\n",
        "        return False\n",
        "\n",
        "    # Check if there is at least 1 special character from [$#@]\n",
        "    if not re.search(\"[$#@]\", password):\n",
        "        return False\n",
        "\n",
        "    return True\n",
        "\n",
        "# Get password from user\n",
        "while True:\n",
        "    password = input(\"Enter your password: \")\n",
        "\n",
        "# Check password validity\n",
        "    if is_valid_password(password):\n",
        "        print(\"Password is valid.\")\n",
        "        break\n",
        "    else:\n",
        "        print(\"Password is not valid. Please follow the password criteria.\")\n",
        "'mns'"
      ],
      "metadata": {
        "colab": {
          "base_uri": "https://localhost:8080/",
          "height": 105
        },
        "id": "2-xBZyzH5mMU",
        "outputId": "b788a4a2-e79d-4d33-f09c-1127a9da10fe"
      },
      "execution_count": null,
      "outputs": [
        {
          "output_type": "stream",
          "name": "stdout",
          "text": [
            "Enter your password: jkhghdHGHJ67@\n",
            "Password is not valid. Please follow the password criteria.\n",
            "Enter your password: gfh@GHB123\n",
            "Password is valid.\n"
          ]
        },
        {
          "output_type": "execute_result",
          "data": {
            "text/plain": [
              "'mns'"
            ],
            "application/vnd.google.colaboratory.intrinsic+json": {
              "type": "string"
            }
          },
          "metadata": {},
          "execution_count": 11
        }
      ]
    },
    {
      "cell_type": "markdown",
      "source": [
        "**4. Write a for loop that prints all elements of a list and their position in the list.a = [4,7,3,2,5,9] Hint: Use Loop to iterate through list elements.\n",
        "**"
      ],
      "metadata": {
        "id": "gtWTU8PJ9opJ"
      }
    },
    {
      "cell_type": "code",
      "source": [
        "a = [4,7,3,2,5,9]\n",
        "obj = enumerate(a)\n",
        "\n",
        "print (list(enumerate(a)))\n"
      ],
      "metadata": {
        "colab": {
          "base_uri": "https://localhost:8080/"
        },
        "id": "jIxxc5rR7_ZQ",
        "outputId": "411bf562-4ce9-4f52-eebc-5c54e8290afa"
      },
      "execution_count": null,
      "outputs": [
        {
          "output_type": "stream",
          "name": "stdout",
          "text": [
            "[(0, 4), (1, 7), (2, 3), (3, 2), (4, 5), (5, 9)]\n"
          ]
        }
      ]
    },
    {
      "cell_type": "markdown",
      "source": [
        "**5. Please  write  a  program thataccepts  a  string  from the console  and  print  the characters that have even indexes.Example: If the following string is given as input to the program:H1e2l3l4o5w6o7r8l9dThen, the output of the program should be:Helloworld**"
      ],
      "metadata": {
        "id": "FZYkqTTBBySU"
      }
    },
    {
      "cell_type": "code",
      "source": [
        "string='H1e2l3l4o5w6o7r8l9d'\n",
        "# Extract characters at even indexes using string slicing\n",
        "output_string =string[::2]\n",
        "\n",
        "# Print the result\n",
        "print(\"Output:\", output_string)\n"
      ],
      "metadata": {
        "colab": {
          "base_uri": "https://localhost:8080/"
        },
        "id": "L5dub4dX-mVH",
        "outputId": "c2c7d02d-d959-4c65-c10e-66fe2f22004b"
      },
      "execution_count": null,
      "outputs": [
        {
          "output_type": "stream",
          "name": "stdout",
          "text": [
            "Output: Helloworld\n"
          ]
        }
      ]
    },
    {
      "cell_type": "markdown",
      "source": [
        "**6. Please write a program thataccepts a string from the console and print it in reverse order.Example: If the following string is given as input to the program: rise to vote sirThen, the output of the program should be:ris etov ot esirt**"
      ],
      "metadata": {
        "id": "409Qt57AEOmC"
      }
    },
    {
      "cell_type": "code",
      "source": [
        "# Accept a string from the console\n",
        "input_string = input(\"Enter a string: \")\n",
        "\n",
        "# Reverse the input string using string slicing\n",
        "reversed_string = input_string[::-1]\n",
        "\n",
        "# Print the reversed string\n",
        "print(\"Reversed String:\", reversed_string)\n"
      ],
      "metadata": {
        "colab": {
          "base_uri": "https://localhost:8080/"
        },
        "id": "02lwQb-5D1NN",
        "outputId": "e1058751-8142-438e-8501-e154ab336bb9"
      },
      "execution_count": null,
      "outputs": [
        {
          "output_type": "stream",
          "name": "stdout",
          "text": [
            "Enter a string: rise to vote sir\n",
            "Reversed String: ris etov ot esir\n"
          ]
        }
      ]
    },
    {
      "cell_type": "markdown",
      "source": [
        "7. Please write a program thatcountsand printsthe numbers of each character in a string input by the console.Example: If the following string is given as input to the program:abcdefgabcThen, the output of the program should be:a,2c,2b,2e,1d,1g,1f,1"
      ],
      "metadata": {
        "id": "vh1ufMurFylH"
      }
    },
    {
      "cell_type": "code",
      "source": [
        "# Accept a string from the console\n",
        "input_string = input(\"Enter a string: \")\n",
        "\n",
        "# Create an empty dictionary to store character counts\n",
        "char_count = {}\n",
        "\n",
        "# Count the occurrences of each character in the input string\n",
        "for char in input_string:\n",
        "    char_count[char] = char_count.get(char, 0) + 1\n",
        "\n",
        "# Print the character counts\n",
        "print(\"Character Counts:\")\n",
        "for char, count in char_count.items():\n",
        "    print(f\"{char},{count}\")\n"
      ],
      "metadata": {
        "colab": {
          "base_uri": "https://localhost:8080/"
        },
        "id": "lvJ4JjeOFC49",
        "outputId": "89f29357-0bb7-42a0-8b2d-e7c79bd83bef"
      },
      "execution_count": null,
      "outputs": [
        {
          "output_type": "stream",
          "name": "stdout",
          "text": [
            "Enter a string: abcdefgabc\n",
            "Character Counts:\n",
            "a,2\n",
            "b,2\n",
            "c,2\n",
            "d,1\n",
            "e,1\n",
            "f,1\n",
            "g,1\n"
          ]
        }
      ]
    },
    {
      "cell_type": "markdown",
      "source": [
        "**8. With   two   given   lists   [1,3,6,78,35,55]   and   [12,24,35,24,88,120,155],   write   a program to make a list whose elements are intersection of the above given lists.**"
      ],
      "metadata": {
        "id": "uOuV96Oi70m0"
      }
    },
    {
      "cell_type": "code",
      "source": [
        "# Given lists\n",
        "list1 = [1, 3, 6, 78, 35, 55]\n",
        "list2 = [12, 24, 35, 24, 88, 120, 155]\n",
        "\n",
        "# Using set intersection to find common elements\n",
        "intersection_list = list(set(list1) & set(list2))\n",
        "\n",
        "# Print the intersection list\n",
        "print(\"Intersection List:\", intersection_list)\n"
      ],
      "metadata": {
        "id": "tYiWdwQJGUOw",
        "colab": {
          "base_uri": "https://localhost:8080/"
        },
        "outputId": "04cba07e-5be2-4304-c904-cf2b547bf2ae"
      },
      "execution_count": 11,
      "outputs": [
        {
          "output_type": "stream",
          "name": "stdout",
          "text": [
            "Intersection List: [35]\n"
          ]
        }
      ]
    },
    {
      "cell_type": "markdown",
      "source": [
        "**9. By using list comprehension, please write a program to print the list after removing the value 24 in [12,24,35,24,88,120,155].**"
      ],
      "metadata": {
        "id": "chWYQXNGWMDe"
      }
    },
    {
      "cell_type": "code",
      "source": [
        "# Given list\n",
        "original_list = [12, 24, 35, 24, 88, 120, 155]\n",
        "\n",
        "# List comprehension to remove the value 24\n",
        "new_list = [x for x in original_list if x != 24]\n",
        "\n",
        "# Print the new list\n",
        "print(\"List after removing 24:\", new_list)\n",
        "\n"
      ],
      "metadata": {
        "colab": {
          "base_uri": "https://localhost:8080/"
        },
        "id": "7n9LqTV7WSd9",
        "outputId": "db1ec263-8e66-4136-9031-e057d3f65ba2"
      },
      "execution_count": 14,
      "outputs": [
        {
          "output_type": "stream",
          "name": "stdout",
          "text": [
            "List after removing 24: [12, 35, 88, 120, 155]\n"
          ]
        }
      ]
    },
    {
      "cell_type": "markdown",
      "source": [
        "**10. By using list comprehension, please write a program to print the list after removing the 0th,4th,and 5th numbers in [12,24,35,70,88,120,155**"
      ],
      "metadata": {
        "id": "HyOrvRVSGp_R"
      }
    },
    {
      "cell_type": "code",
      "source": [
        "# Given list\n",
        "original_list = [12, 24, 35, 70, 88, 120, 155]\n",
        "\n",
        "# List comprehension to exclude specific indices\n",
        "new_list = [original_list[i] for i in range(len(original_list)) if i not in [0, 4, 5]]\n",
        "\n",
        "# Print the new list\n",
        "print(\"List after removing 0th, 4th, and 5th numbers:\", new_list)\n"
      ],
      "metadata": {
        "id": "KMeMLSiyXque"
      },
      "execution_count": null,
      "outputs": []
    },
    {
      "cell_type": "code",
      "source": [
        "# Given list\n",
        "a=[12, 24, 35, 70, 88, 120, 155]\n",
        "\n",
        "# List comprehension to exclude specific indices\n",
        "b=[a[i] for i in range(len(a)) if i not in [0,4,5] ]\n",
        "\n",
        "# Print the new list\n",
        "print(\"here is new lsit\",b)"
      ],
      "metadata": {
        "colab": {
          "base_uri": "https://localhost:8080/"
        },
        "id": "agdAywDXYU3K",
        "outputId": "b2433257-2b44-4e00-b6dc-b04cf5228871"
      },
      "execution_count": 16,
      "outputs": [
        {
          "output_type": "stream",
          "name": "stdout",
          "text": [
            "here is new lsit [24, 35, 70, 155]\n"
          ]
        }
      ]
    },
    {
      "cell_type": "markdown",
      "source": [
        "**11) By using list comprehension, please write a program to print the list after removing deletednumbers thatare divisible by 5 and 7 in [12,24,35,70,88,120,155].**"
      ],
      "metadata": {
        "id": "zYHwTmJiZZyF"
      }
    },
    {
      "cell_type": "code",
      "source": [
        "# Given list\n",
        "original_list = [12, 24, 35, 70, 88, 120, 155]\n",
        "\n",
        "# List comprehension to exclude numbers divisible by 5 and 7\n",
        "new_list = [num for num in original_list if num % 5 != 0 or num % 7 != 0]\n",
        "\n",
        "# Print the new list\n",
        "print(\"List after removing numbers divisible by 5 and 7:\", new_list)\n"
      ],
      "metadata": {
        "colab": {
          "base_uri": "https://localhost:8080/"
        },
        "id": "FevSbuaLblAc",
        "outputId": "f7308d30-a23a-4a6d-bd4c-efccd811d093"
      },
      "execution_count": 46,
      "outputs": [
        {
          "output_type": "stream",
          "name": "stdout",
          "text": [
            "List after removing numbers divisible by 5 and 7: [12, 24, 88, 120, 155]\n"
          ]
        }
      ]
    },
    {
      "cell_type": "markdown",
      "source": [
        "**12.Write  a  program  to  compute  1/2+2/3+3/4+...+n/n+1  with  a  given  n  input  by console (n>0).Example:If the following n is given as input to the program:5Then, the output of the program should be:3.55**"
      ],
      "metadata": {
        "id": "ZBSawqPPivNv"
      }
    },
    {
      "cell_type": "code",
      "source": [
        "# n \\ n+1\n",
        "sum=0\n",
        "n=int(input(\"Enter your number:  \"))\n",
        "for i in range(1, n + 1):\n",
        "        sum += i / (i + 1)\n",
        "\n",
        "    # Print the result rounded to 2 decimal places\n",
        "print(\"Sum of the series:\", round(sum, 2))"
      ],
      "metadata": {
        "colab": {
          "base_uri": "https://localhost:8080/"
        },
        "id": "JvQqR94ufoJl",
        "outputId": "b686c679-6e6b-4905-9eaf-f5447b176f6a"
      },
      "execution_count": 55,
      "outputs": [
        {
          "output_type": "stream",
          "name": "stdout",
          "text": [
            "Enter your number:  5\n",
            "Sum of the series: 3.55\n"
          ]
        }
      ]
    },
    {
      "cell_type": "code",
      "source": [],
      "metadata": {
        "id": "HVRd116nq7bG"
      },
      "execution_count": null,
      "outputs": []
    }
  ]
}